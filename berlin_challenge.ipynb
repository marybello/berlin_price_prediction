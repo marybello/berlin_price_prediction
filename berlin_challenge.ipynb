{
 "cells": [
  {
   "cell_type": "code",
   "execution_count": 1,
   "metadata": {},
   "outputs": [],
   "source": [
    "import numpy as np\n",
    "import pandas as pd\n",
    "import matplotlib.pyplot as plt\n",
    "import seaborn as sns"
   ]
  },
  {
   "cell_type": "code",
   "execution_count": 3,
   "metadata": {},
   "outputs": [
    {
     "name": "stdout",
     "output_type": "stream",
     "text": [
      "Collecting xlrd"
     ]
    },
    {
     "name": "stderr",
     "output_type": "stream",
     "text": [
      "WARNING: You are using pip version 20.2.2; however, version 21.3.1 is available.\n",
      "You should consider upgrading via the 'c:\\users\\maryam hassan\\appdata\\local\\programs\\python\\python38-32\\python.exe -m pip install --upgrade pip' command.\n"
     ]
    },
    {
     "name": "stdout",
     "output_type": "stream",
     "text": [
      "\n",
      "  Downloading xlrd-2.0.1-py2.py3-none-any.whl (96 kB)\n",
      "Installing collected packages: xlrd\n",
      "Successfully installed xlrd-2.0.1\n"
     ]
    }
   ],
   "source": [
    "!pip install xlrd"
   ]
  },
  {
   "cell_type": "code",
   "execution_count": 10,
   "metadata": {},
   "outputs": [],
   "source": [
    "#read the file\n",
    "df = pd.read_excel('train.xlsx',  engine=\"openpyxl\")"
   ]
  },
  {
   "cell_type": "code",
   "execution_count": 11,
   "metadata": {},
   "outputs": [
    {
     "data": {
      "text/html": [
       "<div>\n",
       "<style scoped>\n",
       "    .dataframe tbody tr th:only-of-type {\n",
       "        vertical-align: middle;\n",
       "    }\n",
       "\n",
       "    .dataframe tbody tr th {\n",
       "        vertical-align: top;\n",
       "    }\n",
       "\n",
       "    .dataframe thead th {\n",
       "        text-align: right;\n",
       "    }\n",
       "</style>\n",
       "<table border=\"1\" class=\"dataframe\">\n",
       "  <thead>\n",
       "    <tr style=\"text-align: right;\">\n",
       "      <th></th>\n",
       "      <th>Listing ID</th>\n",
       "      <th>Listing Name</th>\n",
       "      <th>Host ID</th>\n",
       "      <th>Host Name</th>\n",
       "      <th>Host Since</th>\n",
       "      <th>Host Response Time</th>\n",
       "      <th>Host Response Rate</th>\n",
       "      <th>Is Superhost</th>\n",
       "      <th>neighbourhood</th>\n",
       "      <th>Neighborhood Group</th>\n",
       "      <th>...</th>\n",
       "      <th>Overall Rating</th>\n",
       "      <th>Accuracy Rating</th>\n",
       "      <th>Cleanliness Rating</th>\n",
       "      <th>Checkin Rating</th>\n",
       "      <th>Communication Rating</th>\n",
       "      <th>Location Rating</th>\n",
       "      <th>Value Rating</th>\n",
       "      <th>Instant Bookable</th>\n",
       "      <th>Business Travel Ready</th>\n",
       "      <th>Price</th>\n",
       "    </tr>\n",
       "  </thead>\n",
       "  <tbody>\n",
       "    <tr>\n",
       "      <th>0</th>\n",
       "      <td>19665213.0</td>\n",
       "      <td>*</td>\n",
       "      <td>156079597</td>\n",
       "      <td>Maximilian</td>\n",
       "      <td>2016-01-20</td>\n",
       "      <td>NaN</td>\n",
       "      <td>NaN</td>\n",
       "      <td>f</td>\n",
       "      <td>Prenzlauer Berg</td>\n",
       "      <td>Pankow</td>\n",
       "      <td>...</td>\n",
       "      <td>100.0</td>\n",
       "      <td>10.0</td>\n",
       "      <td>10.0</td>\n",
       "      <td>10.0</td>\n",
       "      <td>10.0</td>\n",
       "      <td>9.0</td>\n",
       "      <td>10.0</td>\n",
       "      <td>t</td>\n",
       "      <td>f</td>\n",
       "      <td>26.0</td>\n",
       "    </tr>\n",
       "    <tr>\n",
       "      <th>1</th>\n",
       "      <td>6436842.0</td>\n",
       "      <td>*</td>\n",
       "      <td>5302290</td>\n",
       "      <td>Dulie</td>\n",
       "      <td>2013-04-07</td>\n",
       "      <td>NaN</td>\n",
       "      <td>NaN</td>\n",
       "      <td>f</td>\n",
       "      <td>Pankow</td>\n",
       "      <td>Pankow</td>\n",
       "      <td>...</td>\n",
       "      <td>90.0</td>\n",
       "      <td>9.0</td>\n",
       "      <td>9.0</td>\n",
       "      <td>10.0</td>\n",
       "      <td>10.0</td>\n",
       "      <td>9.0</td>\n",
       "      <td>10.0</td>\n",
       "      <td>f</td>\n",
       "      <td>f</td>\n",
       "      <td>41.0</td>\n",
       "    </tr>\n",
       "    <tr>\n",
       "      <th>2</th>\n",
       "      <td>10559468.0</td>\n",
       "      <td>*</td>\n",
       "      <td>59151456</td>\n",
       "      <td>Geank</td>\n",
       "      <td>2016-02-07</td>\n",
       "      <td>NaN</td>\n",
       "      <td>NaN</td>\n",
       "      <td>f</td>\n",
       "      <td>Prenzlauer Berg</td>\n",
       "      <td>Pankow</td>\n",
       "      <td>...</td>\n",
       "      <td>100.0</td>\n",
       "      <td>10.0</td>\n",
       "      <td>10.0</td>\n",
       "      <td>10.0</td>\n",
       "      <td>10.0</td>\n",
       "      <td>10.0</td>\n",
       "      <td>10.0</td>\n",
       "      <td>f</td>\n",
       "      <td>f</td>\n",
       "      <td>50.0</td>\n",
       "    </tr>\n",
       "    <tr>\n",
       "      <th>3</th>\n",
       "      <td>27215482.0</td>\n",
       "      <td>*</td>\n",
       "      <td>193452785</td>\n",
       "      <td>Alix</td>\n",
       "      <td>2018-06-26</td>\n",
       "      <td>NaN</td>\n",
       "      <td>NaN</td>\n",
       "      <td>f</td>\n",
       "      <td>Friedrichshain</td>\n",
       "      <td>Friedrichshain-Kreuzberg</td>\n",
       "      <td>...</td>\n",
       "      <td>100.0</td>\n",
       "      <td>10.0</td>\n",
       "      <td>10.0</td>\n",
       "      <td>10.0</td>\n",
       "      <td>10.0</td>\n",
       "      <td>10.0</td>\n",
       "      <td>9.0</td>\n",
       "      <td>f</td>\n",
       "      <td>f</td>\n",
       "      <td>50.0</td>\n",
       "    </tr>\n",
       "    <tr>\n",
       "      <th>4</th>\n",
       "      <td>27287546.0</td>\n",
       "      <td>*</td>\n",
       "      <td>205870244</td>\n",
       "      <td>Lurina</td>\n",
       "      <td>2013-05-16</td>\n",
       "      <td>within a few hours</td>\n",
       "      <td>0.92</td>\n",
       "      <td>t</td>\n",
       "      <td>Prenzlauer Berg</td>\n",
       "      <td>Pankow</td>\n",
       "      <td>...</td>\n",
       "      <td>NaN</td>\n",
       "      <td>NaN</td>\n",
       "      <td>NaN</td>\n",
       "      <td>NaN</td>\n",
       "      <td>NaN</td>\n",
       "      <td>NaN</td>\n",
       "      <td>NaN</td>\n",
       "      <td>t</td>\n",
       "      <td>f</td>\n",
       "      <td>55.0</td>\n",
       "    </tr>\n",
       "  </tbody>\n",
       "</table>\n",
       "<p>5 rows × 39 columns</p>\n",
       "</div>"
      ],
      "text/plain": [
       "   Listing ID Listing Name    Host ID   Host Name Host Since  \\\n",
       "0  19665213.0            *  156079597  Maximilian 2016-01-20   \n",
       "1   6436842.0            *    5302290       Dulie 2013-04-07   \n",
       "2  10559468.0            *   59151456       Geank 2016-02-07   \n",
       "3  27215482.0            *  193452785        Alix 2018-06-26   \n",
       "4  27287546.0            *  205870244      Lurina 2013-05-16   \n",
       "\n",
       "   Host Response Time Host Response Rate Is Superhost    neighbourhood  \\\n",
       "0                 NaN                NaN            f  Prenzlauer Berg   \n",
       "1                 NaN                NaN            f           Pankow   \n",
       "2                 NaN                NaN            f  Prenzlauer Berg   \n",
       "3                 NaN                NaN            f   Friedrichshain   \n",
       "4  within a few hours               0.92            t  Prenzlauer Berg   \n",
       "\n",
       "         Neighborhood Group  ... Overall Rating Accuracy Rating  \\\n",
       "0                    Pankow  ...          100.0            10.0   \n",
       "1                    Pankow  ...           90.0             9.0   \n",
       "2                    Pankow  ...          100.0            10.0   \n",
       "3  Friedrichshain-Kreuzberg  ...          100.0            10.0   \n",
       "4                    Pankow  ...            NaN             NaN   \n",
       "\n",
       "  Cleanliness Rating Checkin Rating  Communication Rating  Location Rating  \\\n",
       "0               10.0           10.0                  10.0              9.0   \n",
       "1                9.0           10.0                  10.0              9.0   \n",
       "2               10.0           10.0                  10.0             10.0   \n",
       "3               10.0           10.0                  10.0             10.0   \n",
       "4                NaN            NaN                   NaN              NaN   \n",
       "\n",
       "  Value Rating Instant Bookable Business Travel Ready Price  \n",
       "0         10.0                t                     f  26.0  \n",
       "1         10.0                f                     f  41.0  \n",
       "2         10.0                f                     f  50.0  \n",
       "3          9.0                f                     f  50.0  \n",
       "4          NaN                t                     f  55.0  \n",
       "\n",
       "[5 rows x 39 columns]"
      ]
     },
     "execution_count": 11,
     "metadata": {},
     "output_type": "execute_result"
    }
   ],
   "source": [
    "df.head()"
   ]
  },
  {
   "cell_type": "code",
   "execution_count": 12,
   "metadata": {},
   "outputs": [
    {
     "data": {
      "text/plain": [
       "(15692, 39)"
      ]
     },
     "execution_count": 12,
     "metadata": {},
     "output_type": "execute_result"
    }
   ],
   "source": [
    "df.shape"
   ]
  },
  {
   "cell_type": "code",
   "execution_count": 19,
   "metadata": {},
   "outputs": [],
   "source": [
    "#drop the Listing ID column as it's an obvious redundant feature\n",
    "df1 = df.drop(['Listing ID', 'Host ID'], axis=1)"
   ]
  },
  {
   "cell_type": "code",
   "execution_count": 20,
   "metadata": {},
   "outputs": [
    {
     "data": {
      "text/html": [
       "<div>\n",
       "<style scoped>\n",
       "    .dataframe tbody tr th:only-of-type {\n",
       "        vertical-align: middle;\n",
       "    }\n",
       "\n",
       "    .dataframe tbody tr th {\n",
       "        vertical-align: top;\n",
       "    }\n",
       "\n",
       "    .dataframe thead th {\n",
       "        text-align: right;\n",
       "    }\n",
       "</style>\n",
       "<table border=\"1\" class=\"dataframe\">\n",
       "  <thead>\n",
       "    <tr style=\"text-align: right;\">\n",
       "      <th></th>\n",
       "      <th>Latitude</th>\n",
       "      <th>Longitude</th>\n",
       "      <th>Square Feet</th>\n",
       "      <th>Reviews</th>\n",
       "      <th>Overall Rating</th>\n",
       "      <th>Accuracy Rating</th>\n",
       "      <th>Cleanliness Rating</th>\n",
       "      <th>Checkin Rating</th>\n",
       "      <th>Communication Rating</th>\n",
       "      <th>Location Rating</th>\n",
       "      <th>Value Rating</th>\n",
       "      <th>Price</th>\n",
       "    </tr>\n",
       "  </thead>\n",
       "  <tbody>\n",
       "    <tr>\n",
       "      <th>count</th>\n",
       "      <td>15692.000000</td>\n",
       "      <td>15692.000000</td>\n",
       "      <td>303.000000</td>\n",
       "      <td>15692.000000</td>\n",
       "      <td>12730.000000</td>\n",
       "      <td>12721.000000</td>\n",
       "      <td>12722.000000</td>\n",
       "      <td>12719.000000</td>\n",
       "      <td>12722.000000</td>\n",
       "      <td>12721.000000</td>\n",
       "      <td>12720.000000</td>\n",
       "      <td>15683.000000</td>\n",
       "    </tr>\n",
       "    <tr>\n",
       "      <th>mean</th>\n",
       "      <td>52.509893</td>\n",
       "      <td>13.407334</td>\n",
       "      <td>445.900990</td>\n",
       "      <td>19.452014</td>\n",
       "      <td>94.717282</td>\n",
       "      <td>9.717475</td>\n",
       "      <td>9.328407</td>\n",
       "      <td>9.769164</td>\n",
       "      <td>9.779201</td>\n",
       "      <td>9.556874</td>\n",
       "      <td>9.458097</td>\n",
       "      <td>60.342983</td>\n",
       "    </tr>\n",
       "    <tr>\n",
       "      <th>std</th>\n",
       "      <td>0.031286</td>\n",
       "      <td>0.058646</td>\n",
       "      <td>414.817342</td>\n",
       "      <td>39.483853</td>\n",
       "      <td>7.069787</td>\n",
       "      <td>0.671793</td>\n",
       "      <td>1.023807</td>\n",
       "      <td>0.620347</td>\n",
       "      <td>0.619545</td>\n",
       "      <td>0.731109</td>\n",
       "      <td>0.788891</td>\n",
       "      <td>48.829687</td>\n",
       "    </tr>\n",
       "    <tr>\n",
       "      <th>min</th>\n",
       "      <td>52.369270</td>\n",
       "      <td>13.121400</td>\n",
       "      <td>0.000000</td>\n",
       "      <td>0.000000</td>\n",
       "      <td>20.000000</td>\n",
       "      <td>2.000000</td>\n",
       "      <td>2.000000</td>\n",
       "      <td>2.000000</td>\n",
       "      <td>2.000000</td>\n",
       "      <td>2.000000</td>\n",
       "      <td>2.000000</td>\n",
       "      <td>8.000000</td>\n",
       "    </tr>\n",
       "    <tr>\n",
       "      <th>25%</th>\n",
       "      <td>52.488920</td>\n",
       "      <td>13.376025</td>\n",
       "      <td>0.000000</td>\n",
       "      <td>1.000000</td>\n",
       "      <td>93.000000</td>\n",
       "      <td>10.000000</td>\n",
       "      <td>9.000000</td>\n",
       "      <td>10.000000</td>\n",
       "      <td>10.000000</td>\n",
       "      <td>9.000000</td>\n",
       "      <td>9.000000</td>\n",
       "      <td>32.000000</td>\n",
       "    </tr>\n",
       "    <tr>\n",
       "      <th>50%</th>\n",
       "      <td>52.509100</td>\n",
       "      <td>13.417250</td>\n",
       "      <td>440.000000</td>\n",
       "      <td>5.000000</td>\n",
       "      <td>97.000000</td>\n",
       "      <td>10.000000</td>\n",
       "      <td>10.000000</td>\n",
       "      <td>10.000000</td>\n",
       "      <td>10.000000</td>\n",
       "      <td>10.000000</td>\n",
       "      <td>10.000000</td>\n",
       "      <td>49.000000</td>\n",
       "    </tr>\n",
       "    <tr>\n",
       "      <th>75%</th>\n",
       "      <td>52.532712</td>\n",
       "      <td>13.439750</td>\n",
       "      <td>700.000000</td>\n",
       "      <td>17.000000</td>\n",
       "      <td>100.000000</td>\n",
       "      <td>10.000000</td>\n",
       "      <td>10.000000</td>\n",
       "      <td>10.000000</td>\n",
       "      <td>10.000000</td>\n",
       "      <td>10.000000</td>\n",
       "      <td>10.000000</td>\n",
       "      <td>70.000000</td>\n",
       "    </tr>\n",
       "    <tr>\n",
       "      <th>max</th>\n",
       "      <td>52.639670</td>\n",
       "      <td>13.709020</td>\n",
       "      <td>1912.000000</td>\n",
       "      <td>424.000000</td>\n",
       "      <td>100.000000</td>\n",
       "      <td>10.000000</td>\n",
       "      <td>10.000000</td>\n",
       "      <td>10.000000</td>\n",
       "      <td>10.000000</td>\n",
       "      <td>10.000000</td>\n",
       "      <td>10.000000</td>\n",
       "      <td>900.000000</td>\n",
       "    </tr>\n",
       "  </tbody>\n",
       "</table>\n",
       "</div>"
      ],
      "text/plain": [
       "           Latitude     Longitude  Square Feet       Reviews  Overall Rating  \\\n",
       "count  15692.000000  15692.000000   303.000000  15692.000000    12730.000000   \n",
       "mean      52.509893     13.407334   445.900990     19.452014       94.717282   \n",
       "std        0.031286      0.058646   414.817342     39.483853        7.069787   \n",
       "min       52.369270     13.121400     0.000000      0.000000       20.000000   \n",
       "25%       52.488920     13.376025     0.000000      1.000000       93.000000   \n",
       "50%       52.509100     13.417250   440.000000      5.000000       97.000000   \n",
       "75%       52.532712     13.439750   700.000000     17.000000      100.000000   \n",
       "max       52.639670     13.709020  1912.000000    424.000000      100.000000   \n",
       "\n",
       "       Accuracy Rating  Cleanliness Rating  Checkin Rating  \\\n",
       "count     12721.000000        12722.000000    12719.000000   \n",
       "mean          9.717475            9.328407        9.769164   \n",
       "std           0.671793            1.023807        0.620347   \n",
       "min           2.000000            2.000000        2.000000   \n",
       "25%          10.000000            9.000000       10.000000   \n",
       "50%          10.000000           10.000000       10.000000   \n",
       "75%          10.000000           10.000000       10.000000   \n",
       "max          10.000000           10.000000       10.000000   \n",
       "\n",
       "       Communication Rating  Location Rating  Value Rating         Price  \n",
       "count          12722.000000     12721.000000  12720.000000  15683.000000  \n",
       "mean               9.779201         9.556874      9.458097     60.342983  \n",
       "std                0.619545         0.731109      0.788891     48.829687  \n",
       "min                2.000000         2.000000      2.000000      8.000000  \n",
       "25%               10.000000         9.000000      9.000000     32.000000  \n",
       "50%               10.000000        10.000000     10.000000     49.000000  \n",
       "75%               10.000000        10.000000     10.000000     70.000000  \n",
       "max               10.000000        10.000000     10.000000    900.000000  "
      ]
     },
     "execution_count": 20,
     "metadata": {},
     "output_type": "execute_result"
    }
   ],
   "source": [
    "#do some prelim data wrangling\n",
    "df1.describe()"
   ]
  },
  {
   "cell_type": "code",
   "execution_count": null,
   "metadata": {},
   "outputs": [],
   "source": []
  },
  {
   "cell_type": "code",
   "execution_count": 22,
   "metadata": {},
   "outputs": [
    {
     "data": {
      "image/png": "[encoded data removed]",
      "text/plain": [
       "<Figure size 432x288 with 12 Axes>"
      ]
     },
     "metadata": {
      "needs_background": "light"
     },
     "output_type": "display_data"
    }
   ],
   "source": [
    "df1.hist(rwidth=0.9)\n",
    "plt.tight_layout()"
   ]
  },
  {
   "cell_type": "markdown",
   "metadata": {},
   "source": [
    "things to note/observe from the histogram\n",
    "1. only latitude and longitude follows a somewhat normal distribution\n",
    "2. the price feature doesnt follow a normal distribution"
   ]
  },
  {
   "cell_type": "code",
   "execution_count": 37,
   "metadata": {},
   "outputs": [
    {
     "data": {
      "image/png": "[encoded data removed]",
      "text/plain": [
       "<Figure size 1008x432 with 1 Axes>"
      ]
     },
     "metadata": {
      "needs_background": "light"
     },
     "output_type": "display_data"
    }
   ],
   "source": [
    "#check the percentage of missing values within each column\n",
    "cols = df1.columns\n",
    "values = df1.isnull().sum().values\n",
    "percent = []\n",
    "i = 0\n",
    "for col in cols:\n",
    "    per = (values[i]/df1.shape[0]) * 100\n",
    "    percent.append(per)\n",
    "    i = i + 1\n",
    "colours = ['r', 'm','c', 'g']\n",
    "plt.figure(figsize=(14, 6))\n",
    "plt.xticks(rotation=45)\n",
    "plt.bar(cols, percent, color=colours)\n",
    "plt.tight_layout()"
   ]
  },
  {
   "cell_type": "markdown",
   "metadata": {},
   "source": [
    "Things to note from the bar chart\n",
    "1. the features 'host response time', 'host response' rate have almost 50% missing values while \n",
    "'square feet' feature has almost 100% missing values. it wouldnt make sense to keep these features since they cant contibute a lot to the model\n",
    "2. The 'Host Name' feature as well as 'Listing Name' also redundant features"
   ]
  },
  {
   "cell_type": "code",
   "execution_count": 39,
   "metadata": {},
   "outputs": [
    {
     "data": {
      "text/plain": [
       "Index(['Listing Name', 'Host Name', 'Host Since', 'Host Response Time',\n",
       "       'Host Response Rate', 'Is Superhost', 'neighbourhood',\n",
       "       'Neighborhood Group', 'City', 'Postal Code', 'Country Code', 'Country',\n",
       "       'Latitude', 'Longitude', 'Is Exact Location', 'Property Type',\n",
       "       'Room Type', 'Accomodates', 'Bathrooms', 'Bedrooms', 'Beds',\n",
       "       'Square Feet', 'Guests Included', 'Min Nights', 'Reviews',\n",
       "       'First Review', 'Last Review', 'Overall Rating', 'Accuracy Rating',\n",
       "       'Cleanliness Rating', 'Checkin Rating', 'Communication Rating',\n",
       "       'Location Rating', 'Value Rating', 'Instant Bookable',\n",
       "       'Business Travel Ready', 'Price'],\n",
       "      dtype='object')"
      ]
     },
     "execution_count": 39,
     "metadata": {},
     "output_type": "execute_result"
    }
   ],
   "source": [
    "df1.columns"
   ]
  },
  {
   "cell_type": "code",
   "execution_count": 41,
   "metadata": {},
   "outputs": [
    {
     "data": {
      "text/plain": [
       "(15692, 32)"
      ]
     },
     "execution_count": 41,
     "metadata": {},
     "output_type": "execute_result"
    }
   ],
   "source": [
    "df1 = df1.drop(['Listing Name', 'Host Name','Host Response Time', 'Host Response Rate','Square Feet'], axis=1)\n",
    "df1.shape"
   ]
  },
  {
   "cell_type": "code",
   "execution_count": 43,
   "metadata": {},
   "outputs": [
    {
     "data": {
      "text/html": [
       "<div>\n",
       "<style scoped>\n",
       "    .dataframe tbody tr th:only-of-type {\n",
       "        vertical-align: middle;\n",
       "    }\n",
       "\n",
       "    .dataframe tbody tr th {\n",
       "        vertical-align: top;\n",
       "    }\n",
       "\n",
       "    .dataframe thead th {\n",
       "        text-align: right;\n",
       "    }\n",
       "</style>\n",
       "<table border=\"1\" class=\"dataframe\">\n",
       "  <thead>\n",
       "    <tr style=\"text-align: right;\">\n",
       "      <th></th>\n",
       "      <th>Latitude</th>\n",
       "      <th>Longitude</th>\n",
       "      <th>Overall Rating</th>\n",
       "      <th>Accuracy Rating</th>\n",
       "      <th>Cleanliness Rating</th>\n",
       "      <th>Checkin Rating</th>\n",
       "      <th>Communication Rating</th>\n",
       "      <th>Location Rating</th>\n",
       "      <th>Value Rating</th>\n",
       "      <th>Price</th>\n",
       "    </tr>\n",
       "  </thead>\n",
       "  <tbody>\n",
       "    <tr>\n",
       "      <th>0</th>\n",
       "      <td>52.54652</td>\n",
       "      <td>13.41792</td>\n",
       "      <td>100.0</td>\n",
       "      <td>10.0</td>\n",
       "      <td>10.0</td>\n",
       "      <td>10.0</td>\n",
       "      <td>10.0</td>\n",
       "      <td>9.0</td>\n",
       "      <td>10.0</td>\n",
       "      <td>26.0</td>\n",
       "    </tr>\n",
       "    <tr>\n",
       "      <th>1</th>\n",
       "      <td>52.56512</td>\n",
       "      <td>13.42214</td>\n",
       "      <td>90.0</td>\n",
       "      <td>9.0</td>\n",
       "      <td>9.0</td>\n",
       "      <td>10.0</td>\n",
       "      <td>10.0</td>\n",
       "      <td>9.0</td>\n",
       "      <td>10.0</td>\n",
       "      <td>41.0</td>\n",
       "    </tr>\n",
       "    <tr>\n",
       "      <th>2</th>\n",
       "      <td>52.54741</td>\n",
       "      <td>13.42521</td>\n",
       "      <td>100.0</td>\n",
       "      <td>10.0</td>\n",
       "      <td>10.0</td>\n",
       "      <td>10.0</td>\n",
       "      <td>10.0</td>\n",
       "      <td>10.0</td>\n",
       "      <td>10.0</td>\n",
       "      <td>50.0</td>\n",
       "    </tr>\n",
       "    <tr>\n",
       "      <th>3</th>\n",
       "      <td>52.50958</td>\n",
       "      <td>13.45144</td>\n",
       "      <td>100.0</td>\n",
       "      <td>10.0</td>\n",
       "      <td>10.0</td>\n",
       "      <td>10.0</td>\n",
       "      <td>10.0</td>\n",
       "      <td>10.0</td>\n",
       "      <td>9.0</td>\n",
       "      <td>50.0</td>\n",
       "    </tr>\n",
       "    <tr>\n",
       "      <th>4</th>\n",
       "      <td>52.52995</td>\n",
       "      <td>13.41558</td>\n",
       "      <td>NaN</td>\n",
       "      <td>NaN</td>\n",
       "      <td>NaN</td>\n",
       "      <td>NaN</td>\n",
       "      <td>NaN</td>\n",
       "      <td>NaN</td>\n",
       "      <td>NaN</td>\n",
       "      <td>55.0</td>\n",
       "    </tr>\n",
       "  </tbody>\n",
       "</table>\n",
       "</div>"
      ],
      "text/plain": [
       "   Latitude  Longitude  Overall Rating  Accuracy Rating  Cleanliness Rating  \\\n",
       "0  52.54652   13.41792           100.0             10.0                10.0   \n",
       "1  52.56512   13.42214            90.0              9.0                 9.0   \n",
       "2  52.54741   13.42521           100.0             10.0                10.0   \n",
       "3  52.50958   13.45144           100.0             10.0                10.0   \n",
       "4  52.52995   13.41558             NaN              NaN                 NaN   \n",
       "\n",
       "   Checkin Rating  Communication Rating  Location Rating  Value Rating  Price  \n",
       "0            10.0                  10.0              9.0          10.0   26.0  \n",
       "1            10.0                  10.0              9.0          10.0   41.0  \n",
       "2            10.0                  10.0             10.0          10.0   50.0  \n",
       "3            10.0                  10.0             10.0           9.0   50.0  \n",
       "4             NaN                   NaN              NaN           NaN   55.0  "
      ]
     },
     "execution_count": 43,
     "metadata": {},
     "output_type": "execute_result"
    }
   ],
   "source": [
    "#now let's analyze the behavior of the predictor variable with each of the nuemric varibales\n",
    "#select the numeric dfs\n",
    "num_df = df1.select_dtypes(include=['float', 'int'])\n",
    "num_df.head()"
   ]
  },
  {
   "cell_type": "code",
   "execution_count": 56,
   "metadata": {},
   "outputs": [
    {
     "data": {
      "image/png": "[encoded data removed]",
      "text/plain": [
       "<Figure size 1008x576 with 9 Axes>"
      ]
     },
     "metadata": {
      "needs_background": "light"
     },
     "output_type": "display_data"
    }
   ],
   "source": [
    "cols = num_df.columns[:-1] #to select all the columns except price\n",
    "i = 1\n",
    "plt.figure(figsize=(14,8))\n",
    "for col in cols:\n",
    "    plt.subplot(3,3,i)\n",
    "    plt.title(f'{col} vs price')\n",
    "    plt.scatter(df1[col], df1['Price'])\n",
    "    i = i + 1\n",
    "plt.tight_layout()    "
   ]
  },
  {
   "cell_type": "markdown",
   "metadata": {},
   "source": [
    "things to note down from the chart\n",
    "1. there seems to be no correlation between the longitude, latitude and the prices\n",
    "2. it appears the overall rating is a total of all the ratings so keeping all those individual ratings will be useless"
   ]
  },
  {
   "cell_type": "code",
   "execution_count": 59,
   "metadata": {},
   "outputs": [
    {
     "data": {
      "text/html": [
       "<div>\n",
       "<style scoped>\n",
       "    .dataframe tbody tr th:only-of-type {\n",
       "        vertical-align: middle;\n",
       "    }\n",
       "\n",
       "    .dataframe tbody tr th {\n",
       "        vertical-align: top;\n",
       "    }\n",
       "\n",
       "    .dataframe thead th {\n",
       "        text-align: right;\n",
       "    }\n",
       "</style>\n",
       "<table border=\"1\" class=\"dataframe\">\n",
       "  <thead>\n",
       "    <tr style=\"text-align: right;\">\n",
       "      <th></th>\n",
       "      <th>Latitude</th>\n",
       "      <th>Longitude</th>\n",
       "      <th>Reviews</th>\n",
       "      <th>Overall Rating</th>\n",
       "      <th>Accuracy Rating</th>\n",
       "      <th>Cleanliness Rating</th>\n",
       "      <th>Checkin Rating</th>\n",
       "      <th>Communication Rating</th>\n",
       "      <th>Location Rating</th>\n",
       "      <th>Value Rating</th>\n",
       "      <th>Price</th>\n",
       "    </tr>\n",
       "  </thead>\n",
       "  <tbody>\n",
       "    <tr>\n",
       "      <th>Latitude</th>\n",
       "      <td>1.000000</td>\n",
       "      <td>-0.125704</td>\n",
       "      <td>0.034039</td>\n",
       "      <td>-0.014997</td>\n",
       "      <td>0.005152</td>\n",
       "      <td>0.003128</td>\n",
       "      <td>-0.022864</td>\n",
       "      <td>-0.008435</td>\n",
       "      <td>0.014398</td>\n",
       "      <td>0.006021</td>\n",
       "      <td>0.039158</td>\n",
       "    </tr>\n",
       "    <tr>\n",
       "      <th>Longitude</th>\n",
       "      <td>-0.125704</td>\n",
       "      <td>1.000000</td>\n",
       "      <td>-0.025254</td>\n",
       "      <td>0.014731</td>\n",
       "      <td>0.004334</td>\n",
       "      <td>0.010159</td>\n",
       "      <td>-0.000320</td>\n",
       "      <td>-0.001478</td>\n",
       "      <td>-0.019033</td>\n",
       "      <td>0.019888</td>\n",
       "      <td>-0.041581</td>\n",
       "    </tr>\n",
       "    <tr>\n",
       "      <th>Reviews</th>\n",
       "      <td>0.034039</td>\n",
       "      <td>-0.025254</td>\n",
       "      <td>1.000000</td>\n",
       "      <td>0.014673</td>\n",
       "      <td>0.064641</td>\n",
       "      <td>0.091543</td>\n",
       "      <td>0.063000</td>\n",
       "      <td>0.054394</td>\n",
       "      <td>0.070004</td>\n",
       "      <td>0.014114</td>\n",
       "      <td>0.078231</td>\n",
       "    </tr>\n",
       "    <tr>\n",
       "      <th>Overall Rating</th>\n",
       "      <td>-0.014997</td>\n",
       "      <td>0.014731</td>\n",
       "      <td>0.014673</td>\n",
       "      <td>1.000000</td>\n",
       "      <td>0.604565</td>\n",
       "      <td>0.650221</td>\n",
       "      <td>0.426195</td>\n",
       "      <td>0.477921</td>\n",
       "      <td>0.358226</td>\n",
       "      <td>0.625790</td>\n",
       "      <td>0.043537</td>\n",
       "    </tr>\n",
       "    <tr>\n",
       "      <th>Accuracy Rating</th>\n",
       "      <td>0.005152</td>\n",
       "      <td>0.004334</td>\n",
       "      <td>0.064641</td>\n",
       "      <td>0.604565</td>\n",
       "      <td>1.000000</td>\n",
       "      <td>0.491946</td>\n",
       "      <td>0.421730</td>\n",
       "      <td>0.476989</td>\n",
       "      <td>0.311203</td>\n",
       "      <td>0.537186</td>\n",
       "      <td>0.022770</td>\n",
       "    </tr>\n",
       "    <tr>\n",
       "      <th>Cleanliness Rating</th>\n",
       "      <td>0.003128</td>\n",
       "      <td>0.010159</td>\n",
       "      <td>0.091543</td>\n",
       "      <td>0.650221</td>\n",
       "      <td>0.491946</td>\n",
       "      <td>1.000000</td>\n",
       "      <td>0.360353</td>\n",
       "      <td>0.382767</td>\n",
       "      <td>0.275270</td>\n",
       "      <td>0.494632</td>\n",
       "      <td>0.072634</td>\n",
       "    </tr>\n",
       "    <tr>\n",
       "      <th>Checkin Rating</th>\n",
       "      <td>-0.022864</td>\n",
       "      <td>-0.000320</td>\n",
       "      <td>0.063000</td>\n",
       "      <td>0.426195</td>\n",
       "      <td>0.421730</td>\n",
       "      <td>0.360353</td>\n",
       "      <td>1.000000</td>\n",
       "      <td>0.515313</td>\n",
       "      <td>0.284469</td>\n",
       "      <td>0.413610</td>\n",
       "      <td>0.014200</td>\n",
       "    </tr>\n",
       "    <tr>\n",
       "      <th>Communication Rating</th>\n",
       "      <td>-0.008435</td>\n",
       "      <td>-0.001478</td>\n",
       "      <td>0.054394</td>\n",
       "      <td>0.477921</td>\n",
       "      <td>0.476989</td>\n",
       "      <td>0.382767</td>\n",
       "      <td>0.515313</td>\n",
       "      <td>1.000000</td>\n",
       "      <td>0.280340</td>\n",
       "      <td>0.424135</td>\n",
       "      <td>0.028882</td>\n",
       "    </tr>\n",
       "    <tr>\n",
       "      <th>Location Rating</th>\n",
       "      <td>0.014398</td>\n",
       "      <td>-0.019033</td>\n",
       "      <td>0.070004</td>\n",
       "      <td>0.358226</td>\n",
       "      <td>0.311203</td>\n",
       "      <td>0.275270</td>\n",
       "      <td>0.284469</td>\n",
       "      <td>0.280340</td>\n",
       "      <td>1.000000</td>\n",
       "      <td>0.383352</td>\n",
       "      <td>0.076058</td>\n",
       "    </tr>\n",
       "    <tr>\n",
       "      <th>Value Rating</th>\n",
       "      <td>0.006021</td>\n",
       "      <td>0.019888</td>\n",
       "      <td>0.014114</td>\n",
       "      <td>0.625790</td>\n",
       "      <td>0.537186</td>\n",
       "      <td>0.494632</td>\n",
       "      <td>0.413610</td>\n",
       "      <td>0.424135</td>\n",
       "      <td>0.383352</td>\n",
       "      <td>1.000000</td>\n",
       "      <td>-0.057623</td>\n",
       "    </tr>\n",
       "    <tr>\n",
       "      <th>Price</th>\n",
       "      <td>0.039158</td>\n",
       "      <td>-0.041581</td>\n",
       "      <td>0.078231</td>\n",
       "      <td>0.043537</td>\n",
       "      <td>0.022770</td>\n",
       "      <td>0.072634</td>\n",
       "      <td>0.014200</td>\n",
       "      <td>0.028882</td>\n",
       "      <td>0.076058</td>\n",
       "      <td>-0.057623</td>\n",
       "      <td>1.000000</td>\n",
       "    </tr>\n",
       "  </tbody>\n",
       "</table>\n",
       "</div>"
      ],
      "text/plain": [
       "                      Latitude  Longitude   Reviews  Overall Rating  \\\n",
       "Latitude              1.000000  -0.125704  0.034039       -0.014997   \n",
       "Longitude            -0.125704   1.000000 -0.025254        0.014731   \n",
       "Reviews               0.034039  -0.025254  1.000000        0.014673   \n",
       "Overall Rating       -0.014997   0.014731  0.014673        1.000000   \n",
       "Accuracy Rating       0.005152   0.004334  0.064641        0.604565   \n",
       "Cleanliness Rating    0.003128   0.010159  0.091543        0.650221   \n",
       "Checkin Rating       -0.022864  -0.000320  0.063000        0.426195   \n",
       "Communication Rating -0.008435  -0.001478  0.054394        0.477921   \n",
       "Location Rating       0.014398  -0.019033  0.070004        0.358226   \n",
       "Value Rating          0.006021   0.019888  0.014114        0.625790   \n",
       "Price                 0.039158  -0.041581  0.078231        0.043537   \n",
       "\n",
       "                      Accuracy Rating  Cleanliness Rating  Checkin Rating  \\\n",
       "Latitude                     0.005152            0.003128       -0.022864   \n",
       "Longitude                    0.004334            0.010159       -0.000320   \n",
       "Reviews                      0.064641            0.091543        0.063000   \n",
       "Overall Rating               0.604565            0.650221        0.426195   \n",
       "Accuracy Rating              1.000000            0.491946        0.421730   \n",
       "Cleanliness Rating           0.491946            1.000000        0.360353   \n",
       "Checkin Rating               0.421730            0.360353        1.000000   \n",
       "Communication Rating         0.476989            0.382767        0.515313   \n",
       "Location Rating              0.311203            0.275270        0.284469   \n",
       "Value Rating                 0.537186            0.494632        0.413610   \n",
       "Price                        0.022770            0.072634        0.014200   \n",
       "\n",
       "                      Communication Rating  Location Rating  Value Rating  \\\n",
       "Latitude                         -0.008435         0.014398      0.006021   \n",
       "Longitude                        -0.001478        -0.019033      0.019888   \n",
       "Reviews                           0.054394         0.070004      0.014114   \n",
       "Overall Rating                    0.477921         0.358226      0.625790   \n",
       "Accuracy Rating                   0.476989         0.311203      0.537186   \n",
       "Cleanliness Rating                0.382767         0.275270      0.494632   \n",
       "Checkin Rating                    0.515313         0.284469      0.413610   \n",
       "Communication Rating              1.000000         0.280340      0.424135   \n",
       "Location Rating                   0.280340         1.000000      0.383352   \n",
       "Value Rating                      0.424135         0.383352      1.000000   \n",
       "Price                             0.028882         0.076058     -0.057623   \n",
       "\n",
       "                         Price  \n",
       "Latitude              0.039158  \n",
       "Longitude            -0.041581  \n",
       "Reviews               0.078231  \n",
       "Overall Rating        0.043537  \n",
       "Accuracy Rating       0.022770  \n",
       "Cleanliness Rating    0.072634  \n",
       "Checkin Rating        0.014200  \n",
       "Communication Rating  0.028882  \n",
       "Location Rating       0.076058  \n",
       "Value Rating         -0.057623  \n",
       "Price                 1.000000  "
      ]
     },
     "execution_count": 59,
     "metadata": {},
     "output_type": "execute_result"
    }
   ],
   "source": [
    "#lets see the correlation\n",
    "df1.corr()"
   ]
  },
  {
   "cell_type": "markdown",
   "metadata": {},
   "source": [
    "things to note down from the corr map\n",
    "1. overall rating is highly correlated with accuracy_rating, cleaniness rating, value_rating soo we may want to remove them\n",
    "2. also, latitude and longitude are porrly correlated with the price variable"
   ]
  },
  {
   "cell_type": "code",
   "execution_count": 61,
   "metadata": {},
   "outputs": [],
   "source": [
    "df1 = df1.drop(['Accuracy Rating', 'Cleanliness Rating','Value Rating','Latitude','Longitude'], axis=1)"
   ]
  },
  {
   "cell_type": "code",
   "execution_count": 65,
   "metadata": {},
   "outputs": [
    {
     "data": {
      "text/html": [
       "<div>\n",
       "<style scoped>\n",
       "    .dataframe tbody tr th:only-of-type {\n",
       "        vertical-align: middle;\n",
       "    }\n",
       "\n",
       "    .dataframe tbody tr th {\n",
       "        vertical-align: top;\n",
       "    }\n",
       "\n",
       "    .dataframe thead th {\n",
       "        text-align: right;\n",
       "    }\n",
       "</style>\n",
       "<table border=\"1\" class=\"dataframe\">\n",
       "  <thead>\n",
       "    <tr style=\"text-align: right;\">\n",
       "      <th></th>\n",
       "      <th>Overall Rating</th>\n",
       "      <th>Checkin Rating</th>\n",
       "      <th>Communication Rating</th>\n",
       "      <th>Location Rating</th>\n",
       "      <th>Price</th>\n",
       "    </tr>\n",
       "  </thead>\n",
       "  <tbody>\n",
       "    <tr>\n",
       "      <th>0</th>\n",
       "      <td>100.0</td>\n",
       "      <td>10.0</td>\n",
       "      <td>10.0</td>\n",
       "      <td>9.0</td>\n",
       "      <td>26.0</td>\n",
       "    </tr>\n",
       "    <tr>\n",
       "      <th>1</th>\n",
       "      <td>90.0</td>\n",
       "      <td>10.0</td>\n",
       "      <td>10.0</td>\n",
       "      <td>9.0</td>\n",
       "      <td>41.0</td>\n",
       "    </tr>\n",
       "    <tr>\n",
       "      <th>2</th>\n",
       "      <td>100.0</td>\n",
       "      <td>10.0</td>\n",
       "      <td>10.0</td>\n",
       "      <td>10.0</td>\n",
       "      <td>50.0</td>\n",
       "    </tr>\n",
       "    <tr>\n",
       "      <th>3</th>\n",
       "      <td>100.0</td>\n",
       "      <td>10.0</td>\n",
       "      <td>10.0</td>\n",
       "      <td>10.0</td>\n",
       "      <td>50.0</td>\n",
       "    </tr>\n",
       "    <tr>\n",
       "      <th>4</th>\n",
       "      <td>NaN</td>\n",
       "      <td>NaN</td>\n",
       "      <td>NaN</td>\n",
       "      <td>NaN</td>\n",
       "      <td>55.0</td>\n",
       "    </tr>\n",
       "  </tbody>\n",
       "</table>\n",
       "</div>"
      ],
      "text/plain": [
       "   Overall Rating  Checkin Rating  Communication Rating  Location Rating  \\\n",
       "0           100.0            10.0                  10.0              9.0   \n",
       "1            90.0            10.0                  10.0              9.0   \n",
       "2           100.0            10.0                  10.0             10.0   \n",
       "3           100.0            10.0                  10.0             10.0   \n",
       "4             NaN             NaN                   NaN              NaN   \n",
       "\n",
       "   Price  \n",
       "0   26.0  \n",
       "1   41.0  \n",
       "2   50.0  \n",
       "3   50.0  \n",
       "4   55.0  "
      ]
     },
     "execution_count": 65,
     "metadata": {},
     "output_type": "execute_result"
    }
   ],
   "source": [
    "#now let's check out the categorical variables\n",
    "num_df = df1.select_dtypes(include=['float', 'int'])\n",
    "num_df.head()"
   ]
  },
  {
   "cell_type": "code",
   "execution_count": 66,
   "metadata": {},
   "outputs": [
    {
     "data": {
      "text/html": [
       "<div>\n",
       "<style scoped>\n",
       "    .dataframe tbody tr th:only-of-type {\n",
       "        vertical-align: middle;\n",
       "    }\n",
       "\n",
       "    .dataframe tbody tr th {\n",
       "        vertical-align: top;\n",
       "    }\n",
       "\n",
       "    .dataframe thead th {\n",
       "        text-align: right;\n",
       "    }\n",
       "</style>\n",
       "<table border=\"1\" class=\"dataframe\">\n",
       "  <thead>\n",
       "    <tr style=\"text-align: right;\">\n",
       "      <th></th>\n",
       "      <th>Host Since</th>\n",
       "      <th>Is Superhost</th>\n",
       "      <th>neighbourhood</th>\n",
       "      <th>Neighborhood Group</th>\n",
       "      <th>City</th>\n",
       "      <th>Postal Code</th>\n",
       "      <th>Country Code</th>\n",
       "      <th>Country</th>\n",
       "      <th>Is Exact Location</th>\n",
       "      <th>Property Type</th>\n",
       "      <th>...</th>\n",
       "      <th>Bathrooms</th>\n",
       "      <th>Bedrooms</th>\n",
       "      <th>Beds</th>\n",
       "      <th>Guests Included</th>\n",
       "      <th>Min Nights</th>\n",
       "      <th>Reviews</th>\n",
       "      <th>First Review</th>\n",
       "      <th>Last Review</th>\n",
       "      <th>Instant Bookable</th>\n",
       "      <th>Business Travel Ready</th>\n",
       "    </tr>\n",
       "  </thead>\n",
       "  <tbody>\n",
       "    <tr>\n",
       "      <th>0</th>\n",
       "      <td>2016-01-20</td>\n",
       "      <td>f</td>\n",
       "      <td>Prenzlauer Berg</td>\n",
       "      <td>Pankow</td>\n",
       "      <td>Berlin</td>\n",
       "      <td>10437</td>\n",
       "      <td>DE</td>\n",
       "      <td>Germany</td>\n",
       "      <td>t</td>\n",
       "      <td>Apartment</td>\n",
       "      <td>...</td>\n",
       "      <td>1</td>\n",
       "      <td>1</td>\n",
       "      <td>1</td>\n",
       "      <td>1</td>\n",
       "      <td>2</td>\n",
       "      <td>6</td>\n",
       "      <td>2017-07-07</td>\n",
       "      <td>2017-08-08</td>\n",
       "      <td>t</td>\n",
       "      <td>f</td>\n",
       "    </tr>\n",
       "    <tr>\n",
       "      <th>1</th>\n",
       "      <td>2013-04-07</td>\n",
       "      <td>f</td>\n",
       "      <td>Pankow</td>\n",
       "      <td>Pankow</td>\n",
       "      <td>Berlin</td>\n",
       "      <td>13187</td>\n",
       "      <td>DE</td>\n",
       "      <td>Germany</td>\n",
       "      <td>t</td>\n",
       "      <td>Apartment</td>\n",
       "      <td>...</td>\n",
       "      <td>1</td>\n",
       "      <td>2</td>\n",
       "      <td>2</td>\n",
       "      <td>2</td>\n",
       "      <td>7</td>\n",
       "      <td>6</td>\n",
       "      <td>2015-05-26</td>\n",
       "      <td>2019-04-30</td>\n",
       "      <td>f</td>\n",
       "      <td>f</td>\n",
       "    </tr>\n",
       "    <tr>\n",
       "      <th>2</th>\n",
       "      <td>2016-02-07</td>\n",
       "      <td>f</td>\n",
       "      <td>Prenzlauer Berg</td>\n",
       "      <td>Pankow</td>\n",
       "      <td>Berlin</td>\n",
       "      <td>10439</td>\n",
       "      <td>DE</td>\n",
       "      <td>Germany</td>\n",
       "      <td>t</td>\n",
       "      <td>Apartment</td>\n",
       "      <td>...</td>\n",
       "      <td>1</td>\n",
       "      <td>1</td>\n",
       "      <td>2</td>\n",
       "      <td>1</td>\n",
       "      <td>1</td>\n",
       "      <td>2</td>\n",
       "      <td>2016-04-19</td>\n",
       "      <td>2016-07-04</td>\n",
       "      <td>f</td>\n",
       "      <td>f</td>\n",
       "    </tr>\n",
       "    <tr>\n",
       "      <th>3</th>\n",
       "      <td>2018-06-26</td>\n",
       "      <td>f</td>\n",
       "      <td>Friedrichshain</td>\n",
       "      <td>Friedrichshain-Kreuzberg</td>\n",
       "      <td>Berlin</td>\n",
       "      <td>10245</td>\n",
       "      <td>DE</td>\n",
       "      <td>Germany</td>\n",
       "      <td>t</td>\n",
       "      <td>Apartment</td>\n",
       "      <td>...</td>\n",
       "      <td>1</td>\n",
       "      <td>1</td>\n",
       "      <td>1</td>\n",
       "      <td>1</td>\n",
       "      <td>2</td>\n",
       "      <td>4</td>\n",
       "      <td>2018-07-31</td>\n",
       "      <td>2018-08-12</td>\n",
       "      <td>f</td>\n",
       "      <td>f</td>\n",
       "    </tr>\n",
       "    <tr>\n",
       "      <th>4</th>\n",
       "      <td>2013-05-16</td>\n",
       "      <td>t</td>\n",
       "      <td>Prenzlauer Berg</td>\n",
       "      <td>Pankow</td>\n",
       "      <td>Berlin</td>\n",
       "      <td>10405</td>\n",
       "      <td>DE</td>\n",
       "      <td>Germany</td>\n",
       "      <td>t</td>\n",
       "      <td>Apartment</td>\n",
       "      <td>...</td>\n",
       "      <td>1</td>\n",
       "      <td>1</td>\n",
       "      <td>2</td>\n",
       "      <td>1</td>\n",
       "      <td>6</td>\n",
       "      <td>0</td>\n",
       "      <td>NaT</td>\n",
       "      <td>NaT</td>\n",
       "      <td>t</td>\n",
       "      <td>f</td>\n",
       "    </tr>\n",
       "  </tbody>\n",
       "</table>\n",
       "<p>5 rows × 22 columns</p>\n",
       "</div>"
      ],
      "text/plain": [
       "  Host Since Is Superhost    neighbourhood        Neighborhood Group    City  \\\n",
       "0 2016-01-20            f  Prenzlauer Berg                    Pankow  Berlin   \n",
       "1 2013-04-07            f           Pankow                    Pankow  Berlin   \n",
       "2 2016-02-07            f  Prenzlauer Berg                    Pankow  Berlin   \n",
       "3 2018-06-26            f   Friedrichshain  Friedrichshain-Kreuzberg  Berlin   \n",
       "4 2013-05-16            t  Prenzlauer Berg                    Pankow  Berlin   \n",
       "\n",
       "  Postal Code Country Code  Country Is Exact Location Property Type  ...  \\\n",
       "0       10437           DE  Germany                 t     Apartment  ...   \n",
       "1       13187           DE  Germany                 t     Apartment  ...   \n",
       "2       10439           DE  Germany                 t     Apartment  ...   \n",
       "3       10245           DE  Germany                 t     Apartment  ...   \n",
       "4       10405           DE  Germany                 t     Apartment  ...   \n",
       "\n",
       "  Bathrooms Bedrooms Beds Guests Included Min Nights Reviews First Review  \\\n",
       "0         1        1    1               1          2       6   2017-07-07   \n",
       "1         1        2    2               2          7       6   2015-05-26   \n",
       "2         1        1    2               1          1       2   2016-04-19   \n",
       "3         1        1    1               1          2       4   2018-07-31   \n",
       "4         1        1    2               1          6       0          NaT   \n",
       "\n",
       "   Last Review Instant Bookable Business Travel Ready  \n",
       "0   2017-08-08                t                     f  \n",
       "1   2019-04-30                f                     f  \n",
       "2   2016-07-04                f                     f  \n",
       "3   2018-08-12                f                     f  \n",
       "4          NaT                t                     f  \n",
       "\n",
       "[5 rows x 22 columns]"
      ]
     },
     "execution_count": 66,
     "metadata": {},
     "output_type": "execute_result"
    }
   ],
   "source": [
    "cat_df = df1.drop(num_df.columns.tolist(), axis=1)\n"
   ]
  },
  {
   "cell_type": "code",
   "execution_count": 68,
   "metadata": {},
   "outputs": [],
   "source": [
    "cat_df = cat_df.drop(['Host Since', 'First Review', 'Last Review'], axis = 1)"
   ]
  },
  {
   "cell_type": "code",
   "execution_count": 67,
   "metadata": {},
   "outputs": [],
   "source": [
    "df1 = df1.drop(['Host Since', 'First Review', 'Last Review'], axis = 1)"
   ]
  },
  {
   "cell_type": "code",
   "execution_count": 69,
   "metadata": {},
   "outputs": [
    {
     "data": {
      "text/html": [
       "<div>\n",
       "<style scoped>\n",
       "    .dataframe tbody tr th:only-of-type {\n",
       "        vertical-align: middle;\n",
       "    }\n",
       "\n",
       "    .dataframe tbody tr th {\n",
       "        vertical-align: top;\n",
       "    }\n",
       "\n",
       "    .dataframe thead th {\n",
       "        text-align: right;\n",
       "    }\n",
       "</style>\n",
       "<table border=\"1\" class=\"dataframe\">\n",
       "  <thead>\n",
       "    <tr style=\"text-align: right;\">\n",
       "      <th></th>\n",
       "      <th>Is Superhost</th>\n",
       "      <th>neighbourhood</th>\n",
       "      <th>Neighborhood Group</th>\n",
       "      <th>City</th>\n",
       "      <th>Postal Code</th>\n",
       "      <th>Country Code</th>\n",
       "      <th>Country</th>\n",
       "      <th>Is Exact Location</th>\n",
       "      <th>Property Type</th>\n",
       "      <th>Room Type</th>\n",
       "      <th>Accomodates</th>\n",
       "      <th>Bathrooms</th>\n",
       "      <th>Bedrooms</th>\n",
       "      <th>Beds</th>\n",
       "      <th>Guests Included</th>\n",
       "      <th>Min Nights</th>\n",
       "      <th>Reviews</th>\n",
       "      <th>Instant Bookable</th>\n",
       "      <th>Business Travel Ready</th>\n",
       "    </tr>\n",
       "  </thead>\n",
       "  <tbody>\n",
       "    <tr>\n",
       "      <th>0</th>\n",
       "      <td>f</td>\n",
       "      <td>Prenzlauer Berg</td>\n",
       "      <td>Pankow</td>\n",
       "      <td>Berlin</td>\n",
       "      <td>10437</td>\n",
       "      <td>DE</td>\n",
       "      <td>Germany</td>\n",
       "      <td>t</td>\n",
       "      <td>Apartment</td>\n",
       "      <td>Private room</td>\n",
       "      <td>2</td>\n",
       "      <td>1</td>\n",
       "      <td>1</td>\n",
       "      <td>1</td>\n",
       "      <td>1</td>\n",
       "      <td>2</td>\n",
       "      <td>6</td>\n",
       "      <td>t</td>\n",
       "      <td>f</td>\n",
       "    </tr>\n",
       "    <tr>\n",
       "      <th>1</th>\n",
       "      <td>f</td>\n",
       "      <td>Pankow</td>\n",
       "      <td>Pankow</td>\n",
       "      <td>Berlin</td>\n",
       "      <td>13187</td>\n",
       "      <td>DE</td>\n",
       "      <td>Germany</td>\n",
       "      <td>t</td>\n",
       "      <td>Apartment</td>\n",
       "      <td>Entire home/apt</td>\n",
       "      <td>2</td>\n",
       "      <td>1</td>\n",
       "      <td>2</td>\n",
       "      <td>2</td>\n",
       "      <td>2</td>\n",
       "      <td>7</td>\n",
       "      <td>6</td>\n",
       "      <td>f</td>\n",
       "      <td>f</td>\n",
       "    </tr>\n",
       "    <tr>\n",
       "      <th>2</th>\n",
       "      <td>f</td>\n",
       "      <td>Prenzlauer Berg</td>\n",
       "      <td>Pankow</td>\n",
       "      <td>Berlin</td>\n",
       "      <td>10439</td>\n",
       "      <td>DE</td>\n",
       "      <td>Germany</td>\n",
       "      <td>t</td>\n",
       "      <td>Apartment</td>\n",
       "      <td>Entire home/apt</td>\n",
       "      <td>3</td>\n",
       "      <td>1</td>\n",
       "      <td>1</td>\n",
       "      <td>2</td>\n",
       "      <td>1</td>\n",
       "      <td>1</td>\n",
       "      <td>2</td>\n",
       "      <td>f</td>\n",
       "      <td>f</td>\n",
       "    </tr>\n",
       "    <tr>\n",
       "      <th>3</th>\n",
       "      <td>f</td>\n",
       "      <td>Friedrichshain</td>\n",
       "      <td>Friedrichshain-Kreuzberg</td>\n",
       "      <td>Berlin</td>\n",
       "      <td>10245</td>\n",
       "      <td>DE</td>\n",
       "      <td>Germany</td>\n",
       "      <td>t</td>\n",
       "      <td>Apartment</td>\n",
       "      <td>Private room</td>\n",
       "      <td>2</td>\n",
       "      <td>1</td>\n",
       "      <td>1</td>\n",
       "      <td>1</td>\n",
       "      <td>1</td>\n",
       "      <td>2</td>\n",
       "      <td>4</td>\n",
       "      <td>f</td>\n",
       "      <td>f</td>\n",
       "    </tr>\n",
       "    <tr>\n",
       "      <th>4</th>\n",
       "      <td>t</td>\n",
       "      <td>Prenzlauer Berg</td>\n",
       "      <td>Pankow</td>\n",
       "      <td>Berlin</td>\n",
       "      <td>10405</td>\n",
       "      <td>DE</td>\n",
       "      <td>Germany</td>\n",
       "      <td>t</td>\n",
       "      <td>Apartment</td>\n",
       "      <td>Private room</td>\n",
       "      <td>3</td>\n",
       "      <td>1</td>\n",
       "      <td>1</td>\n",
       "      <td>2</td>\n",
       "      <td>1</td>\n",
       "      <td>6</td>\n",
       "      <td>0</td>\n",
       "      <td>t</td>\n",
       "      <td>f</td>\n",
       "    </tr>\n",
       "  </tbody>\n",
       "</table>\n",
       "</div>"
      ],
      "text/plain": [
       "  Is Superhost    neighbourhood        Neighborhood Group    City Postal Code  \\\n",
       "0            f  Prenzlauer Berg                    Pankow  Berlin       10437   \n",
       "1            f           Pankow                    Pankow  Berlin       13187   \n",
       "2            f  Prenzlauer Berg                    Pankow  Berlin       10439   \n",
       "3            f   Friedrichshain  Friedrichshain-Kreuzberg  Berlin       10245   \n",
       "4            t  Prenzlauer Berg                    Pankow  Berlin       10405   \n",
       "\n",
       "  Country Code  Country Is Exact Location Property Type        Room Type  \\\n",
       "0           DE  Germany                 t     Apartment     Private room   \n",
       "1           DE  Germany                 t     Apartment  Entire home/apt   \n",
       "2           DE  Germany                 t     Apartment  Entire home/apt   \n",
       "3           DE  Germany                 t     Apartment     Private room   \n",
       "4           DE  Germany                 t     Apartment     Private room   \n",
       "\n",
       "  Accomodates Bathrooms Bedrooms Beds Guests Included Min Nights  Reviews  \\\n",
       "0           2         1        1    1               1          2        6   \n",
       "1           2         1        2    2               2          7        6   \n",
       "2           3         1        1    2               1          1        2   \n",
       "3           2         1        1    1               1          2        4   \n",
       "4           3         1        1    2               1          6        0   \n",
       "\n",
       "  Instant Bookable Business Travel Ready  \n",
       "0                t                     f  \n",
       "1                f                     f  \n",
       "2                f                     f  \n",
       "3                f                     f  \n",
       "4                t                     f  "
      ]
     },
     "execution_count": 69,
     "metadata": {},
     "output_type": "execute_result"
    }
   ],
   "source": [
    "cat_df.head()"
   ]
  },
  {
   "cell_type": "code",
   "execution_count": 71,
   "metadata": {},
   "outputs": [
    {
     "name": "stdout",
     "output_type": "stream",
     "text": [
      "Is Superhost 2\n",
      "neighbourhood 63\n",
      "Neighborhood Group 12\n",
      "City 2\n",
      "Postal Code 120\n",
      "Country Code 1\n",
      "Country 1\n",
      "Is Exact Location 2\n",
      "Property Type 16\n",
      "Room Type 3\n",
      "Accomodates 13\n",
      "Bathrooms 8\n",
      "Bedrooms 7\n",
      "Beds 12\n",
      "Guests Included 8\n",
      "Min Nights 25\n",
      "Reviews 289\n",
      "Instant Bookable 2\n",
      "Business Travel Ready 1\n"
     ]
    }
   ],
   "source": [
    "for col in cat_df.columns:\n",
    "    print(col, cat_df[col].nunique())"
   ]
  },
  {
   "cell_type": "code",
   "execution_count": 110,
   "metadata": {},
   "outputs": [],
   "source": [
    "df1 = df1.drop(['Business Travel Ready', 'Country Code', 'Country'], axis = 1)"
   ]
  },
  {
   "cell_type": "code",
   "execution_count": 76,
   "metadata": {},
   "outputs": [],
   "source": [
    "#it is observed that reviews should be a numerical and not a categorical variable\n",
    "df1['Reviews'] = df1['Reviews'].astype('int')"
   ]
  },
  {
   "cell_type": "code",
   "execution_count": 77,
   "metadata": {},
   "outputs": [
    {
     "data": {
      "text/plain": [
       "<matplotlib.collections.PathCollection at 0x153145c8>"
      ]
     },
     "execution_count": 77,
     "metadata": {},
     "output_type": "execute_result"
    },
    {
     "data": {
      "image/png": "[encoded data removed]",
      "text/plain": [
       "<Figure size 432x288 with 1 Axes>"
      ]
     },
     "metadata": {
      "needs_background": "light"
     },
     "output_type": "display_data"
    }
   ],
   "source": [
    "plt.scatter(df1['Reviews'], df1['Price']) #a trend is observed"
   ]
  },
  {
   "cell_type": "code",
   "execution_count": 79,
   "metadata": {},
   "outputs": [],
   "source": [
    "#postal code has too many categories\n",
    "cat_df = cat_df.drop(['Postal Code', 'Reviews'], axis=1)"
   ]
  },
  {
   "cell_type": "code",
   "execution_count": 113,
   "metadata": {},
   "outputs": [
    {
     "data": {
      "text/plain": [
       "Index(['Is Superhost', 'neighbourhood', 'Neighborhood Group', 'City',\n",
       "       'Country Code', 'Country', 'Is Exact Location', 'Property Type',\n",
       "       'Room Type', 'Accomodates', 'Bathrooms', 'Bedrooms', 'Beds',\n",
       "       'Guests Included', 'Min Nights', 'Instant Bookable',\n",
       "       'Business Travel Ready'],\n",
       "      dtype='object')"
      ]
     },
     "execution_count": 113,
     "metadata": {},
     "output_type": "execute_result"
    }
   ],
   "source": [
    "cat_df.columns"
   ]
  },
  {
   "cell_type": "code",
   "execution_count": 114,
   "metadata": {},
   "outputs": [],
   "source": [
    "new_df = cat_df.drop(['Accomodates', 'Bathrooms', 'Bedrooms', 'Beds',\n",
    "       'Guests Included', 'Min Nights','Business Travel Ready', 'Country Code', 'Country'], axis = 1)"
   ]
  },
  {
   "cell_type": "code",
   "execution_count": 115,
   "metadata": {},
   "outputs": [],
   "source": [
    "new_df.dropna(inplace=True)"
   ]
  },
  {
   "cell_type": "code",
   "execution_count": 117,
   "metadata": {},
   "outputs": [
    {
     "data": {
      "image/png": "[encoded data removed]",
      "text/plain": [
       "<Figure size 1008x864 with 8 Axes>"
      ]
     },
     "metadata": {
      "needs_background": "light"
     },
     "output_type": "display_data"
    }
   ],
   "source": [
    "\n",
    "i = 1\n",
    "plt.figure(figsize=(14,12))\n",
    "for col in new_df.columns:\n",
    "    cat_list = new_df[col].unique()\n",
    "    cat_values = df1.groupby(col).mean()['Price']\n",
    "    plt.subplot(3,3,i)\n",
    "    plt.title(f'average price vs {col}')\n",
    "    colours = ['g', 'r','m','b']\n",
    "    plt.bar(cat_list, cat_values, color=colours)\n",
    "    i =i+1\n",
    "plt.tight_layout()    "
   ]
  },
  {
   "cell_type": "markdown",
   "metadata": {},
   "source": [
    "things to note\n",
    "1. no obvious correlation in the exact location with the price, as well as the instant bookable "
   ]
  },
  {
   "cell_type": "code",
   "execution_count": 118,
   "metadata": {},
   "outputs": [],
   "source": [
    "df1 = df1.drop(['Is Exact Location','Instant Bookable' ], axis=1)"
   ]
  },
  {
   "cell_type": "code",
   "execution_count": 122,
   "metadata": {},
   "outputs": [],
   "source": [
    "df1 = df1.drop('neighbourhood', axis=1)"
   ]
  },
  {
   "cell_type": "code",
   "execution_count": 125,
   "metadata": {},
   "outputs": [],
   "source": [
    "df1 = df1.drop('Postal Code', axis=1)"
   ]
  },
  {
   "cell_type": "code",
   "execution_count": 126,
   "metadata": {},
   "outputs": [
    {
     "data": {
      "text/plain": [
       "(15692, 17)"
      ]
     },
     "execution_count": 126,
     "metadata": {},
     "output_type": "execute_result"
    }
   ],
   "source": [
    "df1.shape"
   ]
  },
  {
   "cell_type": "code",
   "execution_count": 127,
   "metadata": {},
   "outputs": [
    {
     "data": {
      "text/html": [
       "<div>\n",
       "<style scoped>\n",
       "    .dataframe tbody tr th:only-of-type {\n",
       "        vertical-align: middle;\n",
       "    }\n",
       "\n",
       "    .dataframe tbody tr th {\n",
       "        vertical-align: top;\n",
       "    }\n",
       "\n",
       "    .dataframe thead th {\n",
       "        text-align: right;\n",
       "    }\n",
       "</style>\n",
       "<table border=\"1\" class=\"dataframe\">\n",
       "  <thead>\n",
       "    <tr style=\"text-align: right;\">\n",
       "      <th></th>\n",
       "      <th>Is Superhost</th>\n",
       "      <th>Neighborhood Group</th>\n",
       "      <th>City</th>\n",
       "      <th>Property Type</th>\n",
       "      <th>Room Type</th>\n",
       "      <th>Accomodates</th>\n",
       "      <th>Bathrooms</th>\n",
       "      <th>Bedrooms</th>\n",
       "      <th>Beds</th>\n",
       "      <th>Guests Included</th>\n",
       "      <th>Min Nights</th>\n",
       "      <th>Reviews</th>\n",
       "      <th>Overall Rating</th>\n",
       "      <th>Checkin Rating</th>\n",
       "      <th>Communication Rating</th>\n",
       "      <th>Location Rating</th>\n",
       "      <th>Price</th>\n",
       "    </tr>\n",
       "  </thead>\n",
       "  <tbody>\n",
       "    <tr>\n",
       "      <th>0</th>\n",
       "      <td>f</td>\n",
       "      <td>Pankow</td>\n",
       "      <td>Berlin</td>\n",
       "      <td>Apartment</td>\n",
       "      <td>Private room</td>\n",
       "      <td>2</td>\n",
       "      <td>1</td>\n",
       "      <td>1</td>\n",
       "      <td>1</td>\n",
       "      <td>1</td>\n",
       "      <td>2</td>\n",
       "      <td>6</td>\n",
       "      <td>100.0</td>\n",
       "      <td>10.0</td>\n",
       "      <td>10.0</td>\n",
       "      <td>9.0</td>\n",
       "      <td>26.0</td>\n",
       "    </tr>\n",
       "    <tr>\n",
       "      <th>1</th>\n",
       "      <td>f</td>\n",
       "      <td>Pankow</td>\n",
       "      <td>Berlin</td>\n",
       "      <td>Apartment</td>\n",
       "      <td>Entire home/apt</td>\n",
       "      <td>2</td>\n",
       "      <td>1</td>\n",
       "      <td>2</td>\n",
       "      <td>2</td>\n",
       "      <td>2</td>\n",
       "      <td>7</td>\n",
       "      <td>6</td>\n",
       "      <td>90.0</td>\n",
       "      <td>10.0</td>\n",
       "      <td>10.0</td>\n",
       "      <td>9.0</td>\n",
       "      <td>41.0</td>\n",
       "    </tr>\n",
       "    <tr>\n",
       "      <th>2</th>\n",
       "      <td>f</td>\n",
       "      <td>Pankow</td>\n",
       "      <td>Berlin</td>\n",
       "      <td>Apartment</td>\n",
       "      <td>Entire home/apt</td>\n",
       "      <td>3</td>\n",
       "      <td>1</td>\n",
       "      <td>1</td>\n",
       "      <td>2</td>\n",
       "      <td>1</td>\n",
       "      <td>1</td>\n",
       "      <td>2</td>\n",
       "      <td>100.0</td>\n",
       "      <td>10.0</td>\n",
       "      <td>10.0</td>\n",
       "      <td>10.0</td>\n",
       "      <td>50.0</td>\n",
       "    </tr>\n",
       "    <tr>\n",
       "      <th>3</th>\n",
       "      <td>f</td>\n",
       "      <td>Friedrichshain-Kreuzberg</td>\n",
       "      <td>Berlin</td>\n",
       "      <td>Apartment</td>\n",
       "      <td>Private room</td>\n",
       "      <td>2</td>\n",
       "      <td>1</td>\n",
       "      <td>1</td>\n",
       "      <td>1</td>\n",
       "      <td>1</td>\n",
       "      <td>2</td>\n",
       "      <td>4</td>\n",
       "      <td>100.0</td>\n",
       "      <td>10.0</td>\n",
       "      <td>10.0</td>\n",
       "      <td>10.0</td>\n",
       "      <td>50.0</td>\n",
       "    </tr>\n",
       "    <tr>\n",
       "      <th>4</th>\n",
       "      <td>t</td>\n",
       "      <td>Pankow</td>\n",
       "      <td>Berlin</td>\n",
       "      <td>Apartment</td>\n",
       "      <td>Private room</td>\n",
       "      <td>3</td>\n",
       "      <td>1</td>\n",
       "      <td>1</td>\n",
       "      <td>2</td>\n",
       "      <td>1</td>\n",
       "      <td>6</td>\n",
       "      <td>0</td>\n",
       "      <td>NaN</td>\n",
       "      <td>NaN</td>\n",
       "      <td>NaN</td>\n",
       "      <td>NaN</td>\n",
       "      <td>55.0</td>\n",
       "    </tr>\n",
       "  </tbody>\n",
       "</table>\n",
       "</div>"
      ],
      "text/plain": [
       "  Is Superhost        Neighborhood Group    City Property Type  \\\n",
       "0            f                    Pankow  Berlin     Apartment   \n",
       "1            f                    Pankow  Berlin     Apartment   \n",
       "2            f                    Pankow  Berlin     Apartment   \n",
       "3            f  Friedrichshain-Kreuzberg  Berlin     Apartment   \n",
       "4            t                    Pankow  Berlin     Apartment   \n",
       "\n",
       "         Room Type Accomodates Bathrooms Bedrooms Beds Guests Included  \\\n",
       "0     Private room           2         1        1    1               1   \n",
       "1  Entire home/apt           2         1        2    2               2   \n",
       "2  Entire home/apt           3         1        1    2               1   \n",
       "3     Private room           2         1        1    1               1   \n",
       "4     Private room           3         1        1    2               1   \n",
       "\n",
       "  Min Nights  Reviews  Overall Rating  Checkin Rating  Communication Rating  \\\n",
       "0          2        6           100.0            10.0                  10.0   \n",
       "1          7        6            90.0            10.0                  10.0   \n",
       "2          1        2           100.0            10.0                  10.0   \n",
       "3          2        4           100.0            10.0                  10.0   \n",
       "4          6        0             NaN             NaN                   NaN   \n",
       "\n",
       "   Location Rating  Price  \n",
       "0              9.0   26.0  \n",
       "1              9.0   41.0  \n",
       "2             10.0   50.0  \n",
       "3             10.0   50.0  \n",
       "4              NaN   55.0  "
      ]
     },
     "execution_count": 127,
     "metadata": {},
     "output_type": "execute_result"
    }
   ],
   "source": [
    "df1.head()"
   ]
  },
  {
   "cell_type": "code",
   "execution_count": 132,
   "metadata": {},
   "outputs": [
    {
     "data": {
      "text/plain": [
       "count    15683.000000\n",
       "mean        60.342983\n",
       "std         48.829687\n",
       "min          8.000000\n",
       "25%         32.000000\n",
       "50%         49.000000\n",
       "75%         70.000000\n",
       "max        900.000000\n",
       "Name: Price, dtype: float64"
      ]
     },
     "execution_count": 132,
     "metadata": {},
     "output_type": "execute_result"
    }
   ],
   "source": [
    "#visualize the outliers\n",
    "df1['Price'].describe()"
   ]
  },
  {
   "cell_type": "code",
   "execution_count": 136,
   "metadata": {},
   "outputs": [
    {
     "data": {
      "text/plain": [
       "{'whiskers': [<matplotlib.lines.Line2D at 0x18e420a0>,\n",
       "  <matplotlib.lines.Line2D at 0x18e42250>],\n",
       " 'caps': [<matplotlib.lines.Line2D at 0x18e42400>,\n",
       "  <matplotlib.lines.Line2D at 0x18e425b0>],\n",
       " 'boxes': [<matplotlib.lines.Line2D at 0x18e43ec8>],\n",
       " 'medians': [<matplotlib.lines.Line2D at 0x18e42760>],\n",
       " 'fliers': [<matplotlib.lines.Line2D at 0x18e428e0>],\n",
       " 'means': []}"
      ]
     },
     "execution_count": 136,
     "metadata": {},
     "output_type": "execute_result"
    },
    {
     "data": {
      "image/png": "[encoded data removed]",
      "text/plain": [
       "<Figure size 432x288 with 1 Axes>"
      ]
     },
     "metadata": {
      "needs_background": "light"
     },
     "output_type": "display_data"
    }
   ],
   "source": [
    "plt.boxplot(df1['Price'].dropna())"
   ]
  },
  {
   "cell_type": "code",
   "execution_count": 133,
   "metadata": {},
   "outputs": [
    {
     "data": {
      "text/plain": [
       "0.05     20.0\n",
       "0.10     25.0\n",
       "0.15     27.0\n",
       "0.90    100.0\n",
       "0.95    140.0\n",
       "0.99    250.0\n",
       "Name: Price, dtype: float64"
      ]
     },
     "execution_count": 133,
     "metadata": {},
     "output_type": "execute_result"
    }
   ],
   "source": [
    "df1['Price'].quantile([0.05,0.1,0.15,0.9,0.95,0.99]) #there are outliers in the price feature"
   ]
  },
  {
   "cell_type": "code",
   "execution_count": 138,
   "metadata": {},
   "outputs": [
    {
     "data": {
      "text/plain": [
       "(array([-12, -11, -10,  -9,  -8,  -7,  -6,  -5,  -4,  -3,  -2,  -1,   0,\n",
       "          1,   2,   3,   4,   5,   6,   7,   8,   9,  10,  11,  12]),\n",
       " array([0.6044622 , 0.6009862 , 0.6062698 , 0.6067475 , 0.6037562 ,\n",
       "        0.60559636, 0.60277975, 0.6008438 , 0.6027918 , 0.6070442 ,\n",
       "        0.604256  , 0.6029684 , 1.        , 0.6029684 , 0.604256  ,\n",
       "        0.6070442 , 0.6027918 , 0.6008438 , 0.60277975, 0.60559636,\n",
       "        0.6037562 , 0.6067475 , 0.6062698 , 0.6009862 , 0.6044622 ],\n",
       "       dtype=float32),\n",
       " <matplotlib.collections.LineCollection at 0x18e160b8>,\n",
       " <matplotlib.lines.Line2D at 0x18e160a0>)"
      ]
     },
     "execution_count": 138,
     "metadata": {},
     "output_type": "execute_result"
    },
    {
     "data": {
      "image/png": "[encoded data removed]",
      "text/plain": [
       "<Figure size 432x288 with 1 Axes>"
      ]
     },
     "metadata": {
      "needs_background": "light"
     },
     "output_type": "display_data"
    }
   ],
   "source": [
    "#check autocorrelation in price\n",
    "df_corr = pd.to_numeric(df1['Price'].dropna(), downcast='float')\n",
    "plt.acorr(df_corr, maxlags=12) #yaah, we have no autocorrelation"
   ]
  },
  {
   "cell_type": "code",
   "execution_count": 140,
   "metadata": {},
   "outputs": [
    {
     "data": {
      "text/plain": [
       "<matplotlib.axes._subplots.AxesSubplot at 0x140daa48>"
      ]
     },
     "execution_count": 140,
     "metadata": {},
     "output_type": "execute_result"
    },
    {
     "data": {
      "image/png": "[encoded data removed]",
      "text/plain": [
       "<Figure size 432x288 with 1 Axes>"
      ]
     },
     "metadata": {
      "needs_background": "light"
     },
     "output_type": "display_data"
    }
   ],
   "source": [
    "df1['Price'].hist(rwidth=9, bins=15)"
   ]
  },
  {
   "cell_type": "code",
   "execution_count": 141,
   "metadata": {},
   "outputs": [
    {
     "data": {
      "text/plain": [
       "<matplotlib.axes._subplots.AxesSubplot at 0x19ad14f0>"
      ]
     },
     "execution_count": 141,
     "metadata": {},
     "output_type": "execute_result"
    },
    {
     "data": {
      "image/png": "[encoded data removed]",
      "text/plain": [
       "<Figure size 432x288 with 1 Axes>"
      ]
     },
     "metadata": {
      "needs_background": "light"
     },
     "output_type": "display_data"
    }
   ],
   "source": [
    "df_price = np.log(df1['Price'])\n",
    "df_price.hist(rwidth=9, bins=15) #the log of our price is now normally distributed"
   ]
  },
  {
   "cell_type": "code",
   "execution_count": 142,
   "metadata": {},
   "outputs": [],
   "source": [
    "df1['Price']= df_price"
   ]
  },
  {
   "cell_type": "code",
   "execution_count": 143,
   "metadata": {},
   "outputs": [
    {
     "data": {
      "text/html": [
       "<div>\n",
       "<style scoped>\n",
       "    .dataframe tbody tr th:only-of-type {\n",
       "        vertical-align: middle;\n",
       "    }\n",
       "\n",
       "    .dataframe tbody tr th {\n",
       "        vertical-align: top;\n",
       "    }\n",
       "\n",
       "    .dataframe thead th {\n",
       "        text-align: right;\n",
       "    }\n",
       "</style>\n",
       "<table border=\"1\" class=\"dataframe\">\n",
       "  <thead>\n",
       "    <tr style=\"text-align: right;\">\n",
       "      <th></th>\n",
       "      <th>Is Superhost</th>\n",
       "      <th>Neighborhood Group</th>\n",
       "      <th>City</th>\n",
       "      <th>Property Type</th>\n",
       "      <th>Room Type</th>\n",
       "      <th>Accomodates</th>\n",
       "      <th>Bathrooms</th>\n",
       "      <th>Bedrooms</th>\n",
       "      <th>Beds</th>\n",
       "      <th>Guests Included</th>\n",
       "      <th>Min Nights</th>\n",
       "      <th>Reviews</th>\n",
       "      <th>Overall Rating</th>\n",
       "      <th>Checkin Rating</th>\n",
       "      <th>Communication Rating</th>\n",
       "      <th>Location Rating</th>\n",
       "      <th>Price</th>\n",
       "    </tr>\n",
       "  </thead>\n",
       "  <tbody>\n",
       "    <tr>\n",
       "      <th>0</th>\n",
       "      <td>f</td>\n",
       "      <td>Pankow</td>\n",
       "      <td>Berlin</td>\n",
       "      <td>Apartment</td>\n",
       "      <td>Private room</td>\n",
       "      <td>2</td>\n",
       "      <td>1</td>\n",
       "      <td>1</td>\n",
       "      <td>1</td>\n",
       "      <td>1</td>\n",
       "      <td>2</td>\n",
       "      <td>6</td>\n",
       "      <td>100.0</td>\n",
       "      <td>10.0</td>\n",
       "      <td>10.0</td>\n",
       "      <td>9.0</td>\n",
       "      <td>3.258097</td>\n",
       "    </tr>\n",
       "    <tr>\n",
       "      <th>1</th>\n",
       "      <td>f</td>\n",
       "      <td>Pankow</td>\n",
       "      <td>Berlin</td>\n",
       "      <td>Apartment</td>\n",
       "      <td>Entire home/apt</td>\n",
       "      <td>2</td>\n",
       "      <td>1</td>\n",
       "      <td>2</td>\n",
       "      <td>2</td>\n",
       "      <td>2</td>\n",
       "      <td>7</td>\n",
       "      <td>6</td>\n",
       "      <td>90.0</td>\n",
       "      <td>10.0</td>\n",
       "      <td>10.0</td>\n",
       "      <td>9.0</td>\n",
       "      <td>3.713572</td>\n",
       "    </tr>\n",
       "    <tr>\n",
       "      <th>2</th>\n",
       "      <td>f</td>\n",
       "      <td>Pankow</td>\n",
       "      <td>Berlin</td>\n",
       "      <td>Apartment</td>\n",
       "      <td>Entire home/apt</td>\n",
       "      <td>3</td>\n",
       "      <td>1</td>\n",
       "      <td>1</td>\n",
       "      <td>2</td>\n",
       "      <td>1</td>\n",
       "      <td>1</td>\n",
       "      <td>2</td>\n",
       "      <td>100.0</td>\n",
       "      <td>10.0</td>\n",
       "      <td>10.0</td>\n",
       "      <td>10.0</td>\n",
       "      <td>3.912023</td>\n",
       "    </tr>\n",
       "    <tr>\n",
       "      <th>3</th>\n",
       "      <td>f</td>\n",
       "      <td>Friedrichshain-Kreuzberg</td>\n",
       "      <td>Berlin</td>\n",
       "      <td>Apartment</td>\n",
       "      <td>Private room</td>\n",
       "      <td>2</td>\n",
       "      <td>1</td>\n",
       "      <td>1</td>\n",
       "      <td>1</td>\n",
       "      <td>1</td>\n",
       "      <td>2</td>\n",
       "      <td>4</td>\n",
       "      <td>100.0</td>\n",
       "      <td>10.0</td>\n",
       "      <td>10.0</td>\n",
       "      <td>10.0</td>\n",
       "      <td>3.912023</td>\n",
       "    </tr>\n",
       "    <tr>\n",
       "      <th>4</th>\n",
       "      <td>t</td>\n",
       "      <td>Pankow</td>\n",
       "      <td>Berlin</td>\n",
       "      <td>Apartment</td>\n",
       "      <td>Private room</td>\n",
       "      <td>3</td>\n",
       "      <td>1</td>\n",
       "      <td>1</td>\n",
       "      <td>2</td>\n",
       "      <td>1</td>\n",
       "      <td>6</td>\n",
       "      <td>0</td>\n",
       "      <td>NaN</td>\n",
       "      <td>NaN</td>\n",
       "      <td>NaN</td>\n",
       "      <td>NaN</td>\n",
       "      <td>4.007333</td>\n",
       "    </tr>\n",
       "  </tbody>\n",
       "</table>\n",
       "</div>"
      ],
      "text/plain": [
       "  Is Superhost        Neighborhood Group    City Property Type  \\\n",
       "0            f                    Pankow  Berlin     Apartment   \n",
       "1            f                    Pankow  Berlin     Apartment   \n",
       "2            f                    Pankow  Berlin     Apartment   \n",
       "3            f  Friedrichshain-Kreuzberg  Berlin     Apartment   \n",
       "4            t                    Pankow  Berlin     Apartment   \n",
       "\n",
       "         Room Type Accomodates Bathrooms Bedrooms Beds Guests Included  \\\n",
       "0     Private room           2         1        1    1               1   \n",
       "1  Entire home/apt           2         1        2    2               2   \n",
       "2  Entire home/apt           3         1        1    2               1   \n",
       "3     Private room           2         1        1    1               1   \n",
       "4     Private room           3         1        1    2               1   \n",
       "\n",
       "  Min Nights  Reviews  Overall Rating  Checkin Rating  Communication Rating  \\\n",
       "0          2        6           100.0            10.0                  10.0   \n",
       "1          7        6            90.0            10.0                  10.0   \n",
       "2          1        2           100.0            10.0                  10.0   \n",
       "3          2        4           100.0            10.0                  10.0   \n",
       "4          6        0             NaN             NaN                   NaN   \n",
       "\n",
       "   Location Rating     Price  \n",
       "0              9.0  3.258097  \n",
       "1              9.0  3.713572  \n",
       "2             10.0  3.912023  \n",
       "3             10.0  3.912023  \n",
       "4              NaN  4.007333  "
      ]
     },
     "execution_count": 143,
     "metadata": {},
     "output_type": "execute_result"
    }
   ],
   "source": [
    "df1.head()"
   ]
  },
  {
   "cell_type": "code",
   "execution_count": null,
   "metadata": {},
   "outputs": [],
   "source": [
    "#deal with missing values and outliers\n"
   ]
  },
  {
   "cell_type": "code",
   "execution_count": 144,
   "metadata": {},
   "outputs": [],
   "source": [
    "df1.to_csv('semi_final.csv')"
   ]
  },
  {
   "cell_type": "code",
   "execution_count": 156,
   "metadata": {},
   "outputs": [],
   "source": [
    "to_change = ['Is Superhost', 'Neighborhood Group', 'City', 'Property Type','Room Type']\n",
    "for col in to_change:\n",
    "    df1[col]= df1[col].astype('category')"
   ]
  },
  {
   "cell_type": "code",
   "execution_count": 180,
   "metadata": {},
   "outputs": [],
   "source": [
    "num_col = [ 'Accomodates', 'Bedrooms', 'Beds','Guests Included','Min Nights']\n"
   ]
  },
  {
   "cell_type": "code",
   "execution_count": 168,
   "metadata": {},
   "outputs": [],
   "source": [
    "#removing rows with * as values\n",
    "for col in num_col:\n",
    "    df1 = df1[df1[col] != '*']"
   ]
  },
  {
   "cell_type": "code",
   "execution_count": 170,
   "metadata": {},
   "outputs": [
    {
     "data": {
      "text/html": [
       "<div>\n",
       "<style scoped>\n",
       "    .dataframe tbody tr th:only-of-type {\n",
       "        vertical-align: middle;\n",
       "    }\n",
       "\n",
       "    .dataframe tbody tr th {\n",
       "        vertical-align: top;\n",
       "    }\n",
       "\n",
       "    .dataframe thead th {\n",
       "        text-align: right;\n",
       "    }\n",
       "</style>\n",
       "<table border=\"1\" class=\"dataframe\">\n",
       "  <thead>\n",
       "    <tr style=\"text-align: right;\">\n",
       "      <th></th>\n",
       "      <th>Is Superhost</th>\n",
       "      <th>Neighborhood Group</th>\n",
       "      <th>City</th>\n",
       "      <th>Property Type</th>\n",
       "      <th>Room Type</th>\n",
       "      <th>Accomodates</th>\n",
       "      <th>Bathrooms</th>\n",
       "      <th>Bedrooms</th>\n",
       "      <th>Beds</th>\n",
       "      <th>Guests Included</th>\n",
       "      <th>Min Nights</th>\n",
       "      <th>Reviews</th>\n",
       "      <th>Overall Rating</th>\n",
       "      <th>Checkin Rating</th>\n",
       "      <th>Communication Rating</th>\n",
       "      <th>Location Rating</th>\n",
       "      <th>Price</th>\n",
       "      <th>inver_price</th>\n",
       "    </tr>\n",
       "  </thead>\n",
       "  <tbody>\n",
       "    <tr>\n",
       "      <th>0</th>\n",
       "      <td>f</td>\n",
       "      <td>Pankow</td>\n",
       "      <td>Berlin</td>\n",
       "      <td>Apartment</td>\n",
       "      <td>Private room</td>\n",
       "      <td>2</td>\n",
       "      <td>1</td>\n",
       "      <td>1</td>\n",
       "      <td>1</td>\n",
       "      <td>1</td>\n",
       "      <td>2</td>\n",
       "      <td>6</td>\n",
       "      <td>100.0</td>\n",
       "      <td>10.0</td>\n",
       "      <td>10.0</td>\n",
       "      <td>9.0</td>\n",
       "      <td>3.258097</td>\n",
       "      <td>26.0</td>\n",
       "    </tr>\n",
       "    <tr>\n",
       "      <th>1</th>\n",
       "      <td>f</td>\n",
       "      <td>Pankow</td>\n",
       "      <td>Berlin</td>\n",
       "      <td>Apartment</td>\n",
       "      <td>Entire home/apt</td>\n",
       "      <td>2</td>\n",
       "      <td>1</td>\n",
       "      <td>2</td>\n",
       "      <td>2</td>\n",
       "      <td>2</td>\n",
       "      <td>7</td>\n",
       "      <td>6</td>\n",
       "      <td>90.0</td>\n",
       "      <td>10.0</td>\n",
       "      <td>10.0</td>\n",
       "      <td>9.0</td>\n",
       "      <td>3.713572</td>\n",
       "      <td>41.0</td>\n",
       "    </tr>\n",
       "    <tr>\n",
       "      <th>2</th>\n",
       "      <td>f</td>\n",
       "      <td>Pankow</td>\n",
       "      <td>Berlin</td>\n",
       "      <td>Apartment</td>\n",
       "      <td>Entire home/apt</td>\n",
       "      <td>3</td>\n",
       "      <td>1</td>\n",
       "      <td>1</td>\n",
       "      <td>2</td>\n",
       "      <td>1</td>\n",
       "      <td>1</td>\n",
       "      <td>2</td>\n",
       "      <td>100.0</td>\n",
       "      <td>10.0</td>\n",
       "      <td>10.0</td>\n",
       "      <td>10.0</td>\n",
       "      <td>3.912023</td>\n",
       "      <td>50.0</td>\n",
       "    </tr>\n",
       "    <tr>\n",
       "      <th>3</th>\n",
       "      <td>f</td>\n",
       "      <td>Friedrichshain-Kreuzberg</td>\n",
       "      <td>Berlin</td>\n",
       "      <td>Apartment</td>\n",
       "      <td>Private room</td>\n",
       "      <td>2</td>\n",
       "      <td>1</td>\n",
       "      <td>1</td>\n",
       "      <td>1</td>\n",
       "      <td>1</td>\n",
       "      <td>2</td>\n",
       "      <td>4</td>\n",
       "      <td>100.0</td>\n",
       "      <td>10.0</td>\n",
       "      <td>10.0</td>\n",
       "      <td>10.0</td>\n",
       "      <td>3.912023</td>\n",
       "      <td>50.0</td>\n",
       "    </tr>\n",
       "    <tr>\n",
       "      <th>4</th>\n",
       "      <td>t</td>\n",
       "      <td>Pankow</td>\n",
       "      <td>Berlin</td>\n",
       "      <td>Apartment</td>\n",
       "      <td>Private room</td>\n",
       "      <td>3</td>\n",
       "      <td>1</td>\n",
       "      <td>1</td>\n",
       "      <td>2</td>\n",
       "      <td>1</td>\n",
       "      <td>6</td>\n",
       "      <td>0</td>\n",
       "      <td>NaN</td>\n",
       "      <td>NaN</td>\n",
       "      <td>NaN</td>\n",
       "      <td>NaN</td>\n",
       "      <td>4.007333</td>\n",
       "      <td>55.0</td>\n",
       "    </tr>\n",
       "  </tbody>\n",
       "</table>\n",
       "</div>"
      ],
      "text/plain": [
       "  Is Superhost        Neighborhood Group    City Property Type  \\\n",
       "0            f                    Pankow  Berlin     Apartment   \n",
       "1            f                    Pankow  Berlin     Apartment   \n",
       "2            f                    Pankow  Berlin     Apartment   \n",
       "3            f  Friedrichshain-Kreuzberg  Berlin     Apartment   \n",
       "4            t                    Pankow  Berlin     Apartment   \n",
       "\n",
       "         Room Type Accomodates Bathrooms Bedrooms Beds Guests Included  \\\n",
       "0     Private room           2         1        1    1               1   \n",
       "1  Entire home/apt           2         1        2    2               2   \n",
       "2  Entire home/apt           3         1        1    2               1   \n",
       "3     Private room           2         1        1    1               1   \n",
       "4     Private room           3         1        1    2               1   \n",
       "\n",
       "  Min Nights  Reviews  Overall Rating  Checkin Rating  Communication Rating  \\\n",
       "0          2        6           100.0            10.0                  10.0   \n",
       "1          7        6            90.0            10.0                  10.0   \n",
       "2          1        2           100.0            10.0                  10.0   \n",
       "3          2        4           100.0            10.0                  10.0   \n",
       "4          6        0             NaN             NaN                   NaN   \n",
       "\n",
       "   Location Rating     Price  inver_price  \n",
       "0              9.0  3.258097         26.0  \n",
       "1              9.0  3.713572         41.0  \n",
       "2             10.0  3.912023         50.0  \n",
       "3             10.0  3.912023         50.0  \n",
       "4              NaN  4.007333         55.0  "
      ]
     },
     "execution_count": 170,
     "metadata": {},
     "output_type": "execute_result"
    }
   ],
   "source": [
    "df1.head()"
   ]
  },
  {
   "cell_type": "code",
   "execution_count": 173,
   "metadata": {},
   "outputs": [
    {
     "data": {
      "text/plain": [
       "(15373, 18)"
      ]
     },
     "execution_count": 173,
     "metadata": {},
     "output_type": "execute_result"
    }
   ],
   "source": [
    "df1.shape"
   ]
  },
  {
   "cell_type": "code",
   "execution_count": 176,
   "metadata": {},
   "outputs": [
    {
     "data": {
      "image/png": "[encoded data removed]",
      "text/plain": [
       "<Figure size 864x576 with 6 Axes>"
      ]
     },
     "metadata": {
      "needs_background": "light"
     },
     "output_type": "display_data"
    }
   ],
   "source": [
    "i =1\n",
    "plt.figure(figsize=(12,8))\n",
    "for col in num_col:\n",
    "    plt.subplot(3,2,i)\n",
    "    plt.title(f'{col} vs Price')\n",
    "    plt.scatter(df1[col], df1['inver_price'])\n",
    "    i = i+1\n",
    "plt.tight_layout()    "
   ]
  },
  {
   "cell_type": "code",
   "execution_count": 177,
   "metadata": {},
   "outputs": [],
   "source": [
    "df1 = df1.drop('Bathrooms', axis=1)"
   ]
  },
  {
   "cell_type": "code",
   "execution_count": 181,
   "metadata": {},
   "outputs": [],
   "source": [
    "for col in num_col:\n",
    "    df1[col] = df1[col].astype('int')"
   ]
  },
  {
   "cell_type": "code",
   "execution_count": 191,
   "metadata": {},
   "outputs": [
    {
     "data": {
      "text/html": [
       "<div>\n",
       "<style scoped>\n",
       "    .dataframe tbody tr th:only-of-type {\n",
       "        vertical-align: middle;\n",
       "    }\n",
       "\n",
       "    .dataframe tbody tr th {\n",
       "        vertical-align: top;\n",
       "    }\n",
       "\n",
       "    .dataframe thead th {\n",
       "        text-align: right;\n",
       "    }\n",
       "</style>\n",
       "<table border=\"1\" class=\"dataframe\">\n",
       "  <thead>\n",
       "    <tr style=\"text-align: right;\">\n",
       "      <th></th>\n",
       "      <th>Is Superhost</th>\n",
       "      <th>Neighborhood Group</th>\n",
       "      <th>City</th>\n",
       "      <th>Property Type</th>\n",
       "      <th>Room Type</th>\n",
       "      <th>Accomodates</th>\n",
       "      <th>Bedrooms</th>\n",
       "      <th>Beds</th>\n",
       "      <th>Guests Included</th>\n",
       "      <th>Min Nights</th>\n",
       "      <th>Reviews</th>\n",
       "      <th>Overall Rating</th>\n",
       "      <th>Checkin Rating</th>\n",
       "      <th>Communication Rating</th>\n",
       "      <th>Location Rating</th>\n",
       "      <th>Price</th>\n",
       "      <th>inver_price</th>\n",
       "    </tr>\n",
       "  </thead>\n",
       "  <tbody>\n",
       "    <tr>\n",
       "      <th>4</th>\n",
       "      <td>t</td>\n",
       "      <td>Pankow</td>\n",
       "      <td>Berlin</td>\n",
       "      <td>Apartment</td>\n",
       "      <td>Private room</td>\n",
       "      <td>3</td>\n",
       "      <td>1</td>\n",
       "      <td>2</td>\n",
       "      <td>1</td>\n",
       "      <td>6</td>\n",
       "      <td>0</td>\n",
       "      <td>NaN</td>\n",
       "      <td>NaN</td>\n",
       "      <td>NaN</td>\n",
       "      <td>NaN</td>\n",
       "      <td>4.007333</td>\n",
       "      <td>55.0</td>\n",
       "    </tr>\n",
       "    <tr>\n",
       "      <th>14</th>\n",
       "      <td>f</td>\n",
       "      <td>Reinickendorf</td>\n",
       "      <td>Berlin</td>\n",
       "      <td>Apartment</td>\n",
       "      <td>Entire home/apt</td>\n",
       "      <td>2</td>\n",
       "      <td>1</td>\n",
       "      <td>1</td>\n",
       "      <td>1</td>\n",
       "      <td>4</td>\n",
       "      <td>0</td>\n",
       "      <td>NaN</td>\n",
       "      <td>NaN</td>\n",
       "      <td>NaN</td>\n",
       "      <td>NaN</td>\n",
       "      <td>4.382027</td>\n",
       "      <td>80.0</td>\n",
       "    </tr>\n",
       "    <tr>\n",
       "      <th>16</th>\n",
       "      <td>f</td>\n",
       "      <td>Lichtenberg</td>\n",
       "      <td>Berlin</td>\n",
       "      <td>Apartment</td>\n",
       "      <td>Private room</td>\n",
       "      <td>1</td>\n",
       "      <td>1</td>\n",
       "      <td>1</td>\n",
       "      <td>1</td>\n",
       "      <td>6</td>\n",
       "      <td>0</td>\n",
       "      <td>NaN</td>\n",
       "      <td>NaN</td>\n",
       "      <td>NaN</td>\n",
       "      <td>NaN</td>\n",
       "      <td>3.555348</td>\n",
       "      <td>35.0</td>\n",
       "    </tr>\n",
       "    <tr>\n",
       "      <th>27</th>\n",
       "      <td>f</td>\n",
       "      <td>Charlottenburg-Wilm.</td>\n",
       "      <td>Berlin</td>\n",
       "      <td>Apartment</td>\n",
       "      <td>Private room</td>\n",
       "      <td>2</td>\n",
       "      <td>1</td>\n",
       "      <td>1</td>\n",
       "      <td>1</td>\n",
       "      <td>7</td>\n",
       "      <td>0</td>\n",
       "      <td>NaN</td>\n",
       "      <td>NaN</td>\n",
       "      <td>NaN</td>\n",
       "      <td>NaN</td>\n",
       "      <td>4.605170</td>\n",
       "      <td>100.0</td>\n",
       "    </tr>\n",
       "    <tr>\n",
       "      <th>37</th>\n",
       "      <td>f</td>\n",
       "      <td>Pankow</td>\n",
       "      <td>Berlin</td>\n",
       "      <td>Apartment</td>\n",
       "      <td>Private room</td>\n",
       "      <td>2</td>\n",
       "      <td>1</td>\n",
       "      <td>1</td>\n",
       "      <td>1</td>\n",
       "      <td>2</td>\n",
       "      <td>0</td>\n",
       "      <td>NaN</td>\n",
       "      <td>NaN</td>\n",
       "      <td>NaN</td>\n",
       "      <td>NaN</td>\n",
       "      <td>3.806662</td>\n",
       "      <td>45.0</td>\n",
       "    </tr>\n",
       "    <tr>\n",
       "      <th>...</th>\n",
       "      <td>...</td>\n",
       "      <td>...</td>\n",
       "      <td>...</td>\n",
       "      <td>...</td>\n",
       "      <td>...</td>\n",
       "      <td>...</td>\n",
       "      <td>...</td>\n",
       "      <td>...</td>\n",
       "      <td>...</td>\n",
       "      <td>...</td>\n",
       "      <td>...</td>\n",
       "      <td>...</td>\n",
       "      <td>...</td>\n",
       "      <td>...</td>\n",
       "      <td>...</td>\n",
       "      <td>...</td>\n",
       "      <td>...</td>\n",
       "    </tr>\n",
       "    <tr>\n",
       "      <th>15675</th>\n",
       "      <td>f</td>\n",
       "      <td>Mitte</td>\n",
       "      <td>Berlin</td>\n",
       "      <td>Apartment</td>\n",
       "      <td>Entire home/apt</td>\n",
       "      <td>3</td>\n",
       "      <td>2</td>\n",
       "      <td>2</td>\n",
       "      <td>2</td>\n",
       "      <td>2</td>\n",
       "      <td>0</td>\n",
       "      <td>NaN</td>\n",
       "      <td>NaN</td>\n",
       "      <td>NaN</td>\n",
       "      <td>NaN</td>\n",
       "      <td>4.174387</td>\n",
       "      <td>65.0</td>\n",
       "    </tr>\n",
       "    <tr>\n",
       "      <th>15680</th>\n",
       "      <td>f</td>\n",
       "      <td>Mitte</td>\n",
       "      <td>Berlin</td>\n",
       "      <td>Apartment</td>\n",
       "      <td>Private room</td>\n",
       "      <td>2</td>\n",
       "      <td>1</td>\n",
       "      <td>1</td>\n",
       "      <td>1</td>\n",
       "      <td>2</td>\n",
       "      <td>0</td>\n",
       "      <td>NaN</td>\n",
       "      <td>NaN</td>\n",
       "      <td>NaN</td>\n",
       "      <td>NaN</td>\n",
       "      <td>3.401197</td>\n",
       "      <td>30.0</td>\n",
       "    </tr>\n",
       "    <tr>\n",
       "      <th>15683</th>\n",
       "      <td>f</td>\n",
       "      <td>Pankow</td>\n",
       "      <td>Berlin</td>\n",
       "      <td>Apartment</td>\n",
       "      <td>Entire home/apt</td>\n",
       "      <td>2</td>\n",
       "      <td>1</td>\n",
       "      <td>2</td>\n",
       "      <td>1</td>\n",
       "      <td>1</td>\n",
       "      <td>1</td>\n",
       "      <td>NaN</td>\n",
       "      <td>NaN</td>\n",
       "      <td>NaN</td>\n",
       "      <td>NaN</td>\n",
       "      <td>4.060443</td>\n",
       "      <td>58.0</td>\n",
       "    </tr>\n",
       "    <tr>\n",
       "      <th>15689</th>\n",
       "      <td>f</td>\n",
       "      <td>Mitte</td>\n",
       "      <td>Berlin</td>\n",
       "      <td>Apartment</td>\n",
       "      <td>Private room</td>\n",
       "      <td>2</td>\n",
       "      <td>1</td>\n",
       "      <td>1</td>\n",
       "      <td>1</td>\n",
       "      <td>1</td>\n",
       "      <td>0</td>\n",
       "      <td>NaN</td>\n",
       "      <td>NaN</td>\n",
       "      <td>NaN</td>\n",
       "      <td>NaN</td>\n",
       "      <td>2.944439</td>\n",
       "      <td>19.0</td>\n",
       "    </tr>\n",
       "    <tr>\n",
       "      <th>15691</th>\n",
       "      <td>f</td>\n",
       "      <td>Lichtenberg</td>\n",
       "      <td>Berlin</td>\n",
       "      <td>Townhouse</td>\n",
       "      <td>Private room</td>\n",
       "      <td>3</td>\n",
       "      <td>1</td>\n",
       "      <td>2</td>\n",
       "      <td>1</td>\n",
       "      <td>2</td>\n",
       "      <td>0</td>\n",
       "      <td>NaN</td>\n",
       "      <td>NaN</td>\n",
       "      <td>NaN</td>\n",
       "      <td>NaN</td>\n",
       "      <td>3.367296</td>\n",
       "      <td>29.0</td>\n",
       "    </tr>\n",
       "  </tbody>\n",
       "</table>\n",
       "<p>2854 rows × 17 columns</p>\n",
       "</div>"
      ],
      "text/plain": [
       "      Is Superhost    Neighborhood Group    City Property Type  \\\n",
       "4                t                Pankow  Berlin     Apartment   \n",
       "14               f         Reinickendorf  Berlin     Apartment   \n",
       "16               f           Lichtenberg  Berlin     Apartment   \n",
       "27               f  Charlottenburg-Wilm.  Berlin     Apartment   \n",
       "37               f                Pankow  Berlin     Apartment   \n",
       "...            ...                   ...     ...           ...   \n",
       "15675            f                 Mitte  Berlin     Apartment   \n",
       "15680            f                 Mitte  Berlin     Apartment   \n",
       "15683            f                Pankow  Berlin     Apartment   \n",
       "15689            f                 Mitte  Berlin     Apartment   \n",
       "15691            f           Lichtenberg  Berlin     Townhouse   \n",
       "\n",
       "             Room Type  Accomodates  Bedrooms  Beds  Guests Included  \\\n",
       "4         Private room            3         1     2                1   \n",
       "14     Entire home/apt            2         1     1                1   \n",
       "16        Private room            1         1     1                1   \n",
       "27        Private room            2         1     1                1   \n",
       "37        Private room            2         1     1                1   \n",
       "...                ...          ...       ...   ...              ...   \n",
       "15675  Entire home/apt            3         2     2                2   \n",
       "15680     Private room            2         1     1                1   \n",
       "15683  Entire home/apt            2         1     2                1   \n",
       "15689     Private room            2         1     1                1   \n",
       "15691     Private room            3         1     2                1   \n",
       "\n",
       "       Min Nights  Reviews  Overall Rating  Checkin Rating  \\\n",
       "4               6        0             NaN             NaN   \n",
       "14              4        0             NaN             NaN   \n",
       "16              6        0             NaN             NaN   \n",
       "27              7        0             NaN             NaN   \n",
       "37              2        0             NaN             NaN   \n",
       "...           ...      ...             ...             ...   \n",
       "15675           2        0             NaN             NaN   \n",
       "15680           2        0             NaN             NaN   \n",
       "15683           1        1             NaN             NaN   \n",
       "15689           1        0             NaN             NaN   \n",
       "15691           2        0             NaN             NaN   \n",
       "\n",
       "       Communication Rating  Location Rating     Price  inver_price  \n",
       "4                       NaN              NaN  4.007333         55.0  \n",
       "14                      NaN              NaN  4.382027         80.0  \n",
       "16                      NaN              NaN  3.555348         35.0  \n",
       "27                      NaN              NaN  4.605170        100.0  \n",
       "37                      NaN              NaN  3.806662         45.0  \n",
       "...                     ...              ...       ...          ...  \n",
       "15675                   NaN              NaN  4.174387         65.0  \n",
       "15680                   NaN              NaN  3.401197         30.0  \n",
       "15683                   NaN              NaN  4.060443         58.0  \n",
       "15689                   NaN              NaN  2.944439         19.0  \n",
       "15691                   NaN              NaN  3.367296         29.0  \n",
       "\n",
       "[2854 rows x 17 columns]"
      ]
     },
     "execution_count": 191,
     "metadata": {},
     "output_type": "execute_result"
    }
   ],
   "source": [
    "df1[df1['Overall Rating'].isnull()] #it is observed that most of the places where overall ratings is null, others are also null"
   ]
  },
  {
   "cell_type": "code",
   "execution_count": 192,
   "metadata": {},
   "outputs": [],
   "source": [
    "test = df1.dropna()"
   ]
  },
  {
   "cell_type": "code",
   "execution_count": 193,
   "metadata": {},
   "outputs": [
    {
     "data": {
      "text/plain": [
       "(12494, 17)"
      ]
     },
     "execution_count": 193,
     "metadata": {},
     "output_type": "execute_result"
    }
   ],
   "source": [
    "test.shape"
   ]
  },
  {
   "cell_type": "code",
   "execution_count": 195,
   "metadata": {},
   "outputs": [],
   "source": [
    "test = test.drop('inver_price', axis=1)"
   ]
  },
  {
   "cell_type": "code",
   "execution_count": 196,
   "metadata": {},
   "outputs": [],
   "source": [
    "dummy_df = pd.get_dummies(test, drop_first=True)"
   ]
  },
  {
   "cell_type": "code",
   "execution_count": 197,
   "metadata": {},
   "outputs": [
    {
     "data": {
      "text/plain": [
       "(12494, 41)"
      ]
     },
     "execution_count": 197,
     "metadata": {},
     "output_type": "execute_result"
    }
   ],
   "source": [
    "dummy_df.shape"
   ]
  },
  {
   "cell_type": "code",
   "execution_count": 199,
   "metadata": {},
   "outputs": [],
   "source": [
    "#split into test and train\n",
    "x = dummy_df.drop('Price', axis=1)\n",
    "y = dummy_df['Price']"
   ]
  },
  {
   "cell_type": "code",
   "execution_count": 201,
   "metadata": {},
   "outputs": [],
   "source": [
    "#split\n",
    "from sklearn.model_selection import train_test_split"
   ]
  },
  {
   "cell_type": "code",
   "execution_count": 202,
   "metadata": {},
   "outputs": [],
   "source": [
    "x_train, x_test, y_train, y_test = train_test_split(x,y, test_size=0.25, random_state=1234)"
   ]
  },
  {
   "cell_type": "code",
   "execution_count": 203,
   "metadata": {},
   "outputs": [],
   "source": [
    "from sklearn.linear_model import LinearRegression"
   ]
  },
  {
   "cell_type": "code",
   "execution_count": 204,
   "metadata": {},
   "outputs": [
    {
     "data": {
      "text/plain": [
       "LinearRegression()"
      ]
     },
     "execution_count": 204,
     "metadata": {},
     "output_type": "execute_result"
    }
   ],
   "source": [
    "reg = LinearRegression()\n",
    "reg.fit(x_train, y_train)"
   ]
  },
  {
   "cell_type": "code",
   "execution_count": 205,
   "metadata": {},
   "outputs": [],
   "source": [
    "y_pred = reg.predict(x_test)"
   ]
  },
  {
   "cell_type": "code",
   "execution_count": 206,
   "metadata": {},
   "outputs": [
    {
     "name": "stdout",
     "output_type": "stream",
     "text": [
      "0.5096490092503263 0.48396135907527826\n"
     ]
    }
   ],
   "source": [
    "r2_train = reg.score(x_train, y_train)\n",
    "r2_test = reg.score(x_test, y_test)\n",
    "print(r2_train, r2_test)"
   ]
  },
  {
   "cell_type": "code",
   "execution_count": 207,
   "metadata": {},
   "outputs": [],
   "source": [
    "import math"
   ]
  },
  {
   "cell_type": "code",
   "execution_count": 208,
   "metadata": {},
   "outputs": [
    {
     "data": {
      "text/plain": [
       "0.41423468013751524"
      ]
     },
     "execution_count": 208,
     "metadata": {},
     "output_type": "execute_result"
    }
   ],
   "source": [
    "from sklearn.metrics import mean_squared_error\n",
    "rmse = math.sqrt(mean_squared_error(y_test, y_pred))\n",
    "rmse"
   ]
  },
  {
   "cell_type": "code",
   "execution_count": 213,
   "metadata": {},
   "outputs": [],
   "source": [
    "test_file = pd.read_excel('test(1).xlsx',engine=\"openpyxl\")"
   ]
  },
  {
   "cell_type": "code",
   "execution_count": 258,
   "metadata": {},
   "outputs": [],
   "source": [
    "Id = pd.read_excel('test(1).xlsx',engine=\"openpyxl\")"
   ]
  },
  {
   "cell_type": "code",
   "execution_count": 214,
   "metadata": {},
   "outputs": [
    {
     "data": {
      "text/plain": [
       "(7842, 38)"
      ]
     },
     "execution_count": 214,
     "metadata": {},
     "output_type": "execute_result"
    }
   ],
   "source": [
    "test_file.shape"
   ]
  },
  {
   "cell_type": "code",
   "execution_count": 218,
   "metadata": {},
   "outputs": [
    {
     "data": {
      "text/html": [
       "<div>\n",
       "<style scoped>\n",
       "    .dataframe tbody tr th:only-of-type {\n",
       "        vertical-align: middle;\n",
       "    }\n",
       "\n",
       "    .dataframe tbody tr th {\n",
       "        vertical-align: top;\n",
       "    }\n",
       "\n",
       "    .dataframe thead th {\n",
       "        text-align: right;\n",
       "    }\n",
       "</style>\n",
       "<table border=\"1\" class=\"dataframe\">\n",
       "  <thead>\n",
       "    <tr style=\"text-align: right;\">\n",
       "      <th></th>\n",
       "      <th>Is Superhost</th>\n",
       "      <th>Neighborhood Group</th>\n",
       "      <th>City</th>\n",
       "      <th>Property Type</th>\n",
       "      <th>Room Type</th>\n",
       "      <th>Accomodates</th>\n",
       "      <th>Bedrooms</th>\n",
       "      <th>Beds</th>\n",
       "      <th>Guests Included</th>\n",
       "      <th>Min Nights</th>\n",
       "      <th>Reviews</th>\n",
       "      <th>Overall Rating</th>\n",
       "      <th>Checkin Rating</th>\n",
       "      <th>Communication Rating</th>\n",
       "      <th>Location Rating</th>\n",
       "      <th>Price</th>\n",
       "      <th>inver_price</th>\n",
       "    </tr>\n",
       "  </thead>\n",
       "  <tbody>\n",
       "    <tr>\n",
       "      <th>0</th>\n",
       "      <td>f</td>\n",
       "      <td>Pankow</td>\n",
       "      <td>Berlin</td>\n",
       "      <td>Apartment</td>\n",
       "      <td>Private room</td>\n",
       "      <td>2</td>\n",
       "      <td>1</td>\n",
       "      <td>1</td>\n",
       "      <td>1</td>\n",
       "      <td>2</td>\n",
       "      <td>6</td>\n",
       "      <td>100.0</td>\n",
       "      <td>10.0</td>\n",
       "      <td>10.0</td>\n",
       "      <td>9.0</td>\n",
       "      <td>3.258097</td>\n",
       "      <td>26.0</td>\n",
       "    </tr>\n",
       "  </tbody>\n",
       "</table>\n",
       "</div>"
      ],
      "text/plain": [
       "  Is Superhost Neighborhood Group    City Property Type     Room Type  \\\n",
       "0            f             Pankow  Berlin     Apartment  Private room   \n",
       "\n",
       "   Accomodates  Bedrooms  Beds  Guests Included  Min Nights  Reviews  \\\n",
       "0            2         1     1                1           2        6   \n",
       "\n",
       "   Overall Rating  Checkin Rating  Communication Rating  Location Rating  \\\n",
       "0           100.0            10.0                  10.0              9.0   \n",
       "\n",
       "      Price  inver_price  \n",
       "0  3.258097         26.0  "
      ]
     },
     "execution_count": 218,
     "metadata": {},
     "output_type": "execute_result"
    }
   ],
   "source": [
    "df1.head(1)"
   ]
  },
  {
   "cell_type": "code",
   "execution_count": 219,
   "metadata": {},
   "outputs": [],
   "source": [
    "#drop the variables that was dropped in the training set\n",
    "test_file = test_file.drop(['Listing ID', 'Listing Name', 'Host ID', 'Host Name', 'Host Since',\n",
    "       'Host Response Time', 'Host Response Rate','neighbourhood', 'Postal Code',\n",
    "                            'Country Code', 'Country', 'Latitude', 'Longitude', 'Is Exact Location',\n",
    "                         'Bathrooms','Square Feet','First Review', 'Last Review', 'Accuracy Rating',\n",
    "       'Cleanliness Rating','Value Rating', 'Instant Bookable',\n",
    "       'Business Travel Ready'\n",
    "                           ], axis=1)"
   ]
  },
  {
   "cell_type": "code",
   "execution_count": 221,
   "metadata": {},
   "outputs": [
    {
     "data": {
      "text/html": [
       "<div>\n",
       "<style scoped>\n",
       "    .dataframe tbody tr th:only-of-type {\n",
       "        vertical-align: middle;\n",
       "    }\n",
       "\n",
       "    .dataframe tbody tr th {\n",
       "        vertical-align: top;\n",
       "    }\n",
       "\n",
       "    .dataframe thead th {\n",
       "        text-align: right;\n",
       "    }\n",
       "</style>\n",
       "<table border=\"1\" class=\"dataframe\">\n",
       "  <thead>\n",
       "    <tr style=\"text-align: right;\">\n",
       "      <th></th>\n",
       "      <th>Is Superhost</th>\n",
       "      <th>Neighborhood Group</th>\n",
       "      <th>City</th>\n",
       "      <th>Property Type</th>\n",
       "      <th>Room Type</th>\n",
       "      <th>Accomodates</th>\n",
       "      <th>Bedrooms</th>\n",
       "      <th>Beds</th>\n",
       "      <th>Guests Included</th>\n",
       "      <th>Min Nights</th>\n",
       "      <th>Reviews</th>\n",
       "      <th>Overall Rating</th>\n",
       "      <th>Checkin Rating</th>\n",
       "      <th>Communication Rating</th>\n",
       "      <th>Location Rating</th>\n",
       "    </tr>\n",
       "  </thead>\n",
       "  <tbody>\n",
       "    <tr>\n",
       "      <th>0</th>\n",
       "      <td>t</td>\n",
       "      <td>Friedrichshain-Kreuzberg</td>\n",
       "      <td>Berlin</td>\n",
       "      <td>Apartment</td>\n",
       "      <td>Entire home/apt</td>\n",
       "      <td>2</td>\n",
       "      <td>1</td>\n",
       "      <td>1</td>\n",
       "      <td>2</td>\n",
       "      <td>2</td>\n",
       "      <td>131</td>\n",
       "      <td>97.0</td>\n",
       "      <td>10.0</td>\n",
       "      <td>10.0</td>\n",
       "      <td>10.0</td>\n",
       "    </tr>\n",
       "    <tr>\n",
       "      <th>1</th>\n",
       "      <td>f</td>\n",
       "      <td>Friedrichshain-Kreuzberg</td>\n",
       "      <td>Berlin</td>\n",
       "      <td>Apartment</td>\n",
       "      <td>Entire home/apt</td>\n",
       "      <td>4</td>\n",
       "      <td>2</td>\n",
       "      <td>4</td>\n",
       "      <td>2</td>\n",
       "      <td>5</td>\n",
       "      <td>22</td>\n",
       "      <td>75.0</td>\n",
       "      <td>8.0</td>\n",
       "      <td>8.0</td>\n",
       "      <td>9.0</td>\n",
       "    </tr>\n",
       "  </tbody>\n",
       "</table>\n",
       "</div>"
      ],
      "text/plain": [
       "  Is Superhost        Neighborhood Group    City Property Type  \\\n",
       "0            t  Friedrichshain-Kreuzberg  Berlin     Apartment   \n",
       "1            f  Friedrichshain-Kreuzberg  Berlin     Apartment   \n",
       "\n",
       "         Room Type Accomodates Bedrooms Beds Guests Included Min Nights  \\\n",
       "0  Entire home/apt           2        1    1               2          2   \n",
       "1  Entire home/apt           4        2    4               2          5   \n",
       "\n",
       "   Reviews  Overall Rating  Checkin Rating  Communication Rating  \\\n",
       "0      131            97.0            10.0                  10.0   \n",
       "1       22            75.0             8.0                   8.0   \n",
       "\n",
       "   Location Rating  \n",
       "0             10.0  \n",
       "1              9.0  "
      ]
     },
     "execution_count": 221,
     "metadata": {},
     "output_type": "execute_result"
    }
   ],
   "source": [
    "test_file.head(2)"
   ]
  },
  {
   "cell_type": "code",
   "execution_count": 244,
   "metadata": {},
   "outputs": [
    {
     "data": {
      "text/plain": [
       "Index(['Is Superhost', 'Neighborhood Group', 'City', 'Property Type',\n",
       "       'Room Type', 'Accomodates', 'Bedrooms', 'Beds', 'Guests Included',\n",
       "       'Min Nights', 'Reviews', 'Overall Rating', 'Checkin Rating',\n",
       "       'Communication Rating', 'Location Rating'],\n",
       "      dtype='object')"
      ]
     },
     "execution_count": 244,
     "metadata": {},
     "output_type": "execute_result"
    }
   ],
   "source": [
    "test_file.columns"
   ]
  },
  {
   "cell_type": "code",
   "execution_count": 245,
   "metadata": {},
   "outputs": [],
   "source": [
    "cat = ['Is Superhost', 'Neighborhood Group', 'City', 'Property Type',\n",
    "       'Room Type']\n",
    "for col in cat:\n",
    "    test_file[col] = test_file[col].astype('category')"
   ]
  },
  {
   "cell_type": "code",
   "execution_count": 247,
   "metadata": {},
   "outputs": [],
   "source": [
    "dummy_test = pd.get_dummies(test_file, drop_first=True)"
   ]
  },
  {
   "cell_type": "code",
   "execution_count": 248,
   "metadata": {},
   "outputs": [
    {
     "data": {
      "text/plain": [
       "(7842, 40)"
      ]
     },
     "execution_count": 248,
     "metadata": {},
     "output_type": "execute_result"
    }
   ],
   "source": [
    "dummy_test.shape"
   ]
  },
  {
   "cell_type": "code",
   "execution_count": 253,
   "metadata": {},
   "outputs": [],
   "source": [
    "dummy_test.fillna(dummy_test.mean(), inplace=True)"
   ]
  },
  {
   "cell_type": "code",
   "execution_count": 254,
   "metadata": {},
   "outputs": [],
   "source": [
    "pred = reg.predict(dummy_test)"
   ]
  },
  {
   "cell_type": "code",
   "execution_count": 257,
   "metadata": {},
   "outputs": [],
   "source": [
    "pred_test = [np.exp(val) for val in pred]"
   ]
  },
  {
   "cell_type": "code",
   "execution_count": 259,
   "metadata": {},
   "outputs": [],
   "source": [
    "listing_id = Id['Listing ID'].tolist()"
   ]
  },
  {
   "cell_type": "code",
   "execution_count": 266,
   "metadata": {},
   "outputs": [],
   "source": [
    "data = {\n",
    "       'Price':pred_test}"
   ]
  },
  {
   "cell_type": "code",
   "execution_count": 267,
   "metadata": {},
   "outputs": [],
   "source": [
    "pd.DataFrame(data).to_csv('first_sub.csv', index=False, header=['prediction'])"
   ]
  },
  {
   "cell_type": "code",
   "execution_count": null,
   "metadata": {},
   "outputs": [],
   "source": []
  }
 ],
 "metadata": {
  "kernelspec": {
   "display_name": "Python 3",
   "language": "python",
   "name": "python3"
  },
  "language_info": {
   "codemirror_mode": {
    "name": "ipython",
    "version": 3
   },
   "file_extension": ".py",
   "mimetype": "text/x-python",
   "name": "python",
   "nbconvert_exporter": "python",
   "pygments_lexer": "ipython3",
   "version": "3.8.3"
  }
 },
 "nbformat": 4,
 "nbformat_minor": 4
}
